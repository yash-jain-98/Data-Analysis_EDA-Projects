{
 "cells": [
  {
   "cell_type": "code",
   "execution_count": 2,
   "id": "22b75cc9",
   "metadata": {},
   "outputs": [],
   "source": [
    "import pandas as pd\n",
    "import numpy as np\n",
    "import seaborn as sns"
   ]
  },
  {
   "cell_type": "code",
   "execution_count": 111,
   "id": "33f2f413",
   "metadata": {},
   "outputs": [
    {
     "data": {
      "text/html": [
       "<div>\n",
       "<style scoped>\n",
       "    .dataframe tbody tr th:only-of-type {\n",
       "        vertical-align: middle;\n",
       "    }\n",
       "\n",
       "    .dataframe tbody tr th {\n",
       "        vertical-align: top;\n",
       "    }\n",
       "\n",
       "    .dataframe thead th {\n",
       "        text-align: right;\n",
       "    }\n",
       "</style>\n",
       "<table border=\"1\" class=\"dataframe\">\n",
       "  <thead>\n",
       "    <tr style=\"text-align: right;\">\n",
       "      <th></th>\n",
       "      <th>Rank</th>\n",
       "      <th>Grade</th>\n",
       "      <th>Channel name</th>\n",
       "      <th>Video Uploads</th>\n",
       "      <th>Subscribers</th>\n",
       "      <th>Video views</th>\n",
       "    </tr>\n",
       "  </thead>\n",
       "  <tbody>\n",
       "    <tr>\n",
       "      <th>0</th>\n",
       "      <td>1st</td>\n",
       "      <td>A++</td>\n",
       "      <td>Zee TV</td>\n",
       "      <td>82757</td>\n",
       "      <td>18752951</td>\n",
       "      <td>20869786591</td>\n",
       "    </tr>\n",
       "    <tr>\n",
       "      <th>1</th>\n",
       "      <td>2nd</td>\n",
       "      <td>A++</td>\n",
       "      <td>T-Series</td>\n",
       "      <td>12661</td>\n",
       "      <td>61196302</td>\n",
       "      <td>47548839843</td>\n",
       "    </tr>\n",
       "    <tr>\n",
       "      <th>2</th>\n",
       "      <td>3rd</td>\n",
       "      <td>A++</td>\n",
       "      <td>Cocomelon - Nursery Rhymes</td>\n",
       "      <td>373</td>\n",
       "      <td>19238251</td>\n",
       "      <td>9793305082</td>\n",
       "    </tr>\n",
       "    <tr>\n",
       "      <th>3</th>\n",
       "      <td>4th</td>\n",
       "      <td>A++</td>\n",
       "      <td>SET India</td>\n",
       "      <td>27323</td>\n",
       "      <td>31180559</td>\n",
       "      <td>22675948293</td>\n",
       "    </tr>\n",
       "    <tr>\n",
       "      <th>4</th>\n",
       "      <td>5th</td>\n",
       "      <td>A++</td>\n",
       "      <td>WWE</td>\n",
       "      <td>36756</td>\n",
       "      <td>32852346</td>\n",
       "      <td>26273668433</td>\n",
       "    </tr>\n",
       "  </tbody>\n",
       "</table>\n",
       "</div>"
      ],
      "text/plain": [
       "  Rank Grade                Channel name Video Uploads Subscribers  \\\n",
       "0  1st  A++                       Zee TV         82757    18752951   \n",
       "1  2nd  A++                     T-Series         12661    61196302   \n",
       "2  3rd  A++   Cocomelon - Nursery Rhymes           373    19238251   \n",
       "3  4th  A++                    SET India         27323    31180559   \n",
       "4  5th  A++                          WWE         36756    32852346   \n",
       "\n",
       "   Video views  \n",
       "0  20869786591  \n",
       "1  47548839843  \n",
       "2   9793305082  \n",
       "3  22675948293  \n",
       "4  26273668433  "
      ]
     },
     "execution_count": 111,
     "metadata": {},
     "output_type": "execute_result"
    }
   ],
   "source": [
    "data=pd.read_csv('6-top-5000-youtube-channels.csv')\n",
    "data.head()"
   ]
  },
  {
   "cell_type": "markdown",
   "id": "ff519984",
   "metadata": {},
   "source": [
    "# 1. Display all rows except the last 5 rows using head method"
   ]
  },
  {
   "cell_type": "code",
   "execution_count": 14,
   "id": "5698cfc8",
   "metadata": {},
   "outputs": [
    {
     "data": {
      "text/html": [
       "<div>\n",
       "<style scoped>\n",
       "    .dataframe tbody tr th:only-of-type {\n",
       "        vertical-align: middle;\n",
       "    }\n",
       "\n",
       "    .dataframe tbody tr th {\n",
       "        vertical-align: top;\n",
       "    }\n",
       "\n",
       "    .dataframe thead th {\n",
       "        text-align: right;\n",
       "    }\n",
       "</style>\n",
       "<table border=\"1\" class=\"dataframe\">\n",
       "  <thead>\n",
       "    <tr style=\"text-align: right;\">\n",
       "      <th></th>\n",
       "      <th>Rank</th>\n",
       "      <th>Grade</th>\n",
       "      <th>Channel name</th>\n",
       "      <th>Video Uploads</th>\n",
       "      <th>Subscribers</th>\n",
       "      <th>Video views</th>\n",
       "    </tr>\n",
       "  </thead>\n",
       "  <tbody>\n",
       "    <tr>\n",
       "      <th>0</th>\n",
       "      <td>1st</td>\n",
       "      <td>A++</td>\n",
       "      <td>Zee TV</td>\n",
       "      <td>82757</td>\n",
       "      <td>18752951</td>\n",
       "      <td>20869786591</td>\n",
       "    </tr>\n",
       "    <tr>\n",
       "      <th>1</th>\n",
       "      <td>2nd</td>\n",
       "      <td>A++</td>\n",
       "      <td>T-Series</td>\n",
       "      <td>12661</td>\n",
       "      <td>61196302</td>\n",
       "      <td>47548839843</td>\n",
       "    </tr>\n",
       "    <tr>\n",
       "      <th>2</th>\n",
       "      <td>3rd</td>\n",
       "      <td>A++</td>\n",
       "      <td>Cocomelon - Nursery Rhymes</td>\n",
       "      <td>373</td>\n",
       "      <td>19238251</td>\n",
       "      <td>9793305082</td>\n",
       "    </tr>\n",
       "    <tr>\n",
       "      <th>3</th>\n",
       "      <td>4th</td>\n",
       "      <td>A++</td>\n",
       "      <td>SET India</td>\n",
       "      <td>27323</td>\n",
       "      <td>31180559</td>\n",
       "      <td>22675948293</td>\n",
       "    </tr>\n",
       "    <tr>\n",
       "      <th>4</th>\n",
       "      <td>5th</td>\n",
       "      <td>A++</td>\n",
       "      <td>WWE</td>\n",
       "      <td>36756</td>\n",
       "      <td>32852346</td>\n",
       "      <td>26273668433</td>\n",
       "    </tr>\n",
       "  </tbody>\n",
       "</table>\n",
       "</div>"
      ],
      "text/plain": [
       "  Rank Grade                Channel name Video Uploads Subscribers  \\\n",
       "0  1st  A++                       Zee TV         82757    18752951   \n",
       "1  2nd  A++                     T-Series         12661    61196302   \n",
       "2  3rd  A++   Cocomelon - Nursery Rhymes           373    19238251   \n",
       "3  4th  A++                    SET India         27323    31180559   \n",
       "4  5th  A++                          WWE         36756    32852346   \n",
       "\n",
       "   Video views  \n",
       "0  20869786591  \n",
       "1  47548839843  \n",
       "2   9793305082  \n",
       "3  22675948293  \n",
       "4  26273668433  "
      ]
     },
     "execution_count": 14,
     "metadata": {},
     "output_type": "execute_result"
    }
   ],
   "source": [
    "data.head()"
   ]
  },
  {
   "cell_type": "code",
   "execution_count": 15,
   "id": "1a43135e",
   "metadata": {},
   "outputs": [
    {
     "data": {
      "text/html": [
       "<div>\n",
       "<style scoped>\n",
       "    .dataframe tbody tr th:only-of-type {\n",
       "        vertical-align: middle;\n",
       "    }\n",
       "\n",
       "    .dataframe tbody tr th {\n",
       "        vertical-align: top;\n",
       "    }\n",
       "\n",
       "    .dataframe thead th {\n",
       "        text-align: right;\n",
       "    }\n",
       "</style>\n",
       "<table border=\"1\" class=\"dataframe\">\n",
       "  <thead>\n",
       "    <tr style=\"text-align: right;\">\n",
       "      <th></th>\n",
       "      <th>Rank</th>\n",
       "      <th>Grade</th>\n",
       "      <th>Channel name</th>\n",
       "      <th>Video Uploads</th>\n",
       "      <th>Subscribers</th>\n",
       "      <th>Video views</th>\n",
       "    </tr>\n",
       "  </thead>\n",
       "  <tbody>\n",
       "    <tr>\n",
       "      <th>0</th>\n",
       "      <td>1st</td>\n",
       "      <td>A++</td>\n",
       "      <td>Zee TV</td>\n",
       "      <td>82757</td>\n",
       "      <td>18752951</td>\n",
       "      <td>20869786591</td>\n",
       "    </tr>\n",
       "    <tr>\n",
       "      <th>1</th>\n",
       "      <td>2nd</td>\n",
       "      <td>A++</td>\n",
       "      <td>T-Series</td>\n",
       "      <td>12661</td>\n",
       "      <td>61196302</td>\n",
       "      <td>47548839843</td>\n",
       "    </tr>\n",
       "    <tr>\n",
       "      <th>2</th>\n",
       "      <td>3rd</td>\n",
       "      <td>A++</td>\n",
       "      <td>Cocomelon - Nursery Rhymes</td>\n",
       "      <td>373</td>\n",
       "      <td>19238251</td>\n",
       "      <td>9793305082</td>\n",
       "    </tr>\n",
       "    <tr>\n",
       "      <th>3</th>\n",
       "      <td>4th</td>\n",
       "      <td>A++</td>\n",
       "      <td>SET India</td>\n",
       "      <td>27323</td>\n",
       "      <td>31180559</td>\n",
       "      <td>22675948293</td>\n",
       "    </tr>\n",
       "    <tr>\n",
       "      <th>4</th>\n",
       "      <td>5th</td>\n",
       "      <td>A++</td>\n",
       "      <td>WWE</td>\n",
       "      <td>36756</td>\n",
       "      <td>32852346</td>\n",
       "      <td>26273668433</td>\n",
       "    </tr>\n",
       "    <tr>\n",
       "      <th>...</th>\n",
       "      <td>...</td>\n",
       "      <td>...</td>\n",
       "      <td>...</td>\n",
       "      <td>...</td>\n",
       "      <td>...</td>\n",
       "      <td>...</td>\n",
       "    </tr>\n",
       "    <tr>\n",
       "      <th>4990</th>\n",
       "      <td>4,991st</td>\n",
       "      <td>B+</td>\n",
       "      <td>Ho Ngoc Ha's Official Channel</td>\n",
       "      <td>208</td>\n",
       "      <td>--</td>\n",
       "      <td>127185704</td>\n",
       "    </tr>\n",
       "    <tr>\n",
       "      <th>4991</th>\n",
       "      <td>4,992nd</td>\n",
       "      <td>B+</td>\n",
       "      <td>Toys to Learn Colors</td>\n",
       "      <td>11</td>\n",
       "      <td>663114</td>\n",
       "      <td>141933264</td>\n",
       "    </tr>\n",
       "    <tr>\n",
       "      <th>4992</th>\n",
       "      <td>4,993rd</td>\n",
       "      <td>B+</td>\n",
       "      <td>КАZКА</td>\n",
       "      <td>25</td>\n",
       "      <td>131766</td>\n",
       "      <td>74304638</td>\n",
       "    </tr>\n",
       "    <tr>\n",
       "      <th>4993</th>\n",
       "      <td>4,994th</td>\n",
       "      <td>B+</td>\n",
       "      <td>United CUBE (CUBE Entertainment…</td>\n",
       "      <td>1055</td>\n",
       "      <td>1586835</td>\n",
       "      <td>371299166</td>\n",
       "    </tr>\n",
       "    <tr>\n",
       "      <th>4994</th>\n",
       "      <td>4,995th</td>\n",
       "      <td>B+</td>\n",
       "      <td>Wings Marathi</td>\n",
       "      <td>1735</td>\n",
       "      <td>1099659</td>\n",
       "      <td>346175699</td>\n",
       "    </tr>\n",
       "  </tbody>\n",
       "</table>\n",
       "<p>4995 rows × 6 columns</p>\n",
       "</div>"
      ],
      "text/plain": [
       "         Rank Grade                      Channel name Video Uploads  \\\n",
       "0         1st  A++                             Zee TV         82757   \n",
       "1         2nd  A++                           T-Series         12661   \n",
       "2         3rd  A++         Cocomelon - Nursery Rhymes           373   \n",
       "3         4th  A++                          SET India         27323   \n",
       "4         5th  A++                                WWE         36756   \n",
       "...       ...   ...                               ...           ...   \n",
       "4990  4,991st   B+      Ho Ngoc Ha's Official Channel           208   \n",
       "4991  4,992nd   B+               Toys to Learn Colors            11   \n",
       "4992  4,993rd   B+                              КАZКА            25   \n",
       "4993  4,994th   B+   United CUBE (CUBE Entertainment…          1055   \n",
       "4994  4,995th   B+                      Wings Marathi          1735   \n",
       "\n",
       "     Subscribers  Video views  \n",
       "0       18752951  20869786591  \n",
       "1       61196302  47548839843  \n",
       "2       19238251   9793305082  \n",
       "3       31180559  22675948293  \n",
       "4       32852346  26273668433  \n",
       "...          ...          ...  \n",
       "4990         --     127185704  \n",
       "4991      663114    141933264  \n",
       "4992      131766     74304638  \n",
       "4993     1586835    371299166  \n",
       "4994     1099659    346175699  \n",
       "\n",
       "[4995 rows x 6 columns]"
      ]
     },
     "execution_count": 15,
     "metadata": {},
     "output_type": "execute_result"
    }
   ],
   "source": [
    "#to display all rows except last 5 rows we need to use -5 in the argument as shown below\n",
    "data.head(-5)"
   ]
  },
  {
   "cell_type": "code",
   "execution_count": null,
   "id": "a59f9521",
   "metadata": {},
   "outputs": [],
   "source": []
  },
  {
   "cell_type": "markdown",
   "id": "5fac1c7f",
   "metadata": {},
   "source": [
    "# 2. Display all rows except the first 5 rows using tail method"
   ]
  },
  {
   "cell_type": "code",
   "execution_count": 17,
   "id": "cae3415b",
   "metadata": {},
   "outputs": [
    {
     "data": {
      "text/html": [
       "<div>\n",
       "<style scoped>\n",
       "    .dataframe tbody tr th:only-of-type {\n",
       "        vertical-align: middle;\n",
       "    }\n",
       "\n",
       "    .dataframe tbody tr th {\n",
       "        vertical-align: top;\n",
       "    }\n",
       "\n",
       "    .dataframe thead th {\n",
       "        text-align: right;\n",
       "    }\n",
       "</style>\n",
       "<table border=\"1\" class=\"dataframe\">\n",
       "  <thead>\n",
       "    <tr style=\"text-align: right;\">\n",
       "      <th></th>\n",
       "      <th>Rank</th>\n",
       "      <th>Grade</th>\n",
       "      <th>Channel name</th>\n",
       "      <th>Video Uploads</th>\n",
       "      <th>Subscribers</th>\n",
       "      <th>Video views</th>\n",
       "    </tr>\n",
       "  </thead>\n",
       "  <tbody>\n",
       "    <tr>\n",
       "      <th>5</th>\n",
       "      <td>6th</td>\n",
       "      <td>A++</td>\n",
       "      <td>Movieclips</td>\n",
       "      <td>30243</td>\n",
       "      <td>17149705</td>\n",
       "      <td>16618094724</td>\n",
       "    </tr>\n",
       "    <tr>\n",
       "      <th>6</th>\n",
       "      <td>7th</td>\n",
       "      <td>A++</td>\n",
       "      <td>netd müzik</td>\n",
       "      <td>8500</td>\n",
       "      <td>11373567</td>\n",
       "      <td>23898730764</td>\n",
       "    </tr>\n",
       "    <tr>\n",
       "      <th>7</th>\n",
       "      <td>8th</td>\n",
       "      <td>A++</td>\n",
       "      <td>ABS-CBN Entertainment</td>\n",
       "      <td>100147</td>\n",
       "      <td>12149206</td>\n",
       "      <td>17202609850</td>\n",
       "    </tr>\n",
       "    <tr>\n",
       "      <th>8</th>\n",
       "      <td>9th</td>\n",
       "      <td>A++</td>\n",
       "      <td>Ryan ToysReview</td>\n",
       "      <td>1140</td>\n",
       "      <td>16082927</td>\n",
       "      <td>24518098041</td>\n",
       "    </tr>\n",
       "    <tr>\n",
       "      <th>9</th>\n",
       "      <td>10th</td>\n",
       "      <td>A++</td>\n",
       "      <td>Zee Marathi</td>\n",
       "      <td>74607</td>\n",
       "      <td>2841811</td>\n",
       "      <td>2591830307</td>\n",
       "    </tr>\n",
       "    <tr>\n",
       "      <th>...</th>\n",
       "      <td>...</td>\n",
       "      <td>...</td>\n",
       "      <td>...</td>\n",
       "      <td>...</td>\n",
       "      <td>...</td>\n",
       "      <td>...</td>\n",
       "    </tr>\n",
       "    <tr>\n",
       "      <th>4995</th>\n",
       "      <td>4,996th</td>\n",
       "      <td>B+</td>\n",
       "      <td>Uras Benlioğlu</td>\n",
       "      <td>706</td>\n",
       "      <td>2072942</td>\n",
       "      <td>441202795</td>\n",
       "    </tr>\n",
       "    <tr>\n",
       "      <th>4996</th>\n",
       "      <td>4,997th</td>\n",
       "      <td>B+</td>\n",
       "      <td>HI-TECH MUSIC LTD</td>\n",
       "      <td>797</td>\n",
       "      <td>1055091</td>\n",
       "      <td>377331722</td>\n",
       "    </tr>\n",
       "    <tr>\n",
       "      <th>4997</th>\n",
       "      <td>4,998th</td>\n",
       "      <td>B+</td>\n",
       "      <td>Mastersaint</td>\n",
       "      <td>110</td>\n",
       "      <td>3265735</td>\n",
       "      <td>311758426</td>\n",
       "    </tr>\n",
       "    <tr>\n",
       "      <th>4998</th>\n",
       "      <td>4,999th</td>\n",
       "      <td>B+</td>\n",
       "      <td>Bruce McIntosh</td>\n",
       "      <td>3475</td>\n",
       "      <td>32990</td>\n",
       "      <td>14563764</td>\n",
       "    </tr>\n",
       "    <tr>\n",
       "      <th>4999</th>\n",
       "      <td>5,000th</td>\n",
       "      <td>B+</td>\n",
       "      <td>SehatAQUA</td>\n",
       "      <td>254</td>\n",
       "      <td>21172</td>\n",
       "      <td>73312511</td>\n",
       "    </tr>\n",
       "  </tbody>\n",
       "</table>\n",
       "<p>4995 rows × 6 columns</p>\n",
       "</div>"
      ],
      "text/plain": [
       "         Rank Grade           Channel name Video Uploads Subscribers  \\\n",
       "5         6th  A++              Movieclips         30243    17149705   \n",
       "6         7th  A++              netd müzik          8500    11373567   \n",
       "7         8th  A++   ABS-CBN Entertainment        100147    12149206   \n",
       "8         9th  A++         Ryan ToysReview          1140    16082927   \n",
       "9        10th  A++             Zee Marathi         74607     2841811   \n",
       "...       ...   ...                    ...           ...         ...   \n",
       "4995  4,996th   B+          Uras Benlioğlu           706     2072942   \n",
       "4996  4,997th   B+       HI-TECH MUSIC LTD           797     1055091   \n",
       "4997  4,998th   B+             Mastersaint           110     3265735   \n",
       "4998  4,999th   B+          Bruce McIntosh          3475       32990   \n",
       "4999  5,000th   B+               SehatAQUA           254       21172   \n",
       "\n",
       "      Video views  \n",
       "5     16618094724  \n",
       "6     23898730764  \n",
       "7     17202609850  \n",
       "8     24518098041  \n",
       "9      2591830307  \n",
       "...           ...  \n",
       "4995    441202795  \n",
       "4996    377331722  \n",
       "4997    311758426  \n",
       "4998     14563764  \n",
       "4999     73312511  \n",
       "\n",
       "[4995 rows x 6 columns]"
      ]
     },
     "execution_count": 17,
     "metadata": {},
     "output_type": "execute_result"
    }
   ],
   "source": [
    "#same explanation as above for head\n",
    "data.tail(-5)"
   ]
  },
  {
   "cell_type": "markdown",
   "id": "f986f2aa",
   "metadata": {},
   "source": [
    "# 3. Find Shape of our dataset (Number of rows & number of columns)"
   ]
  },
  {
   "cell_type": "code",
   "execution_count": 19,
   "id": "10e9d0df",
   "metadata": {},
   "outputs": [
    {
     "data": {
      "text/plain": [
       "(5000, 6)"
      ]
     },
     "execution_count": 19,
     "metadata": {},
     "output_type": "execute_result"
    }
   ],
   "source": [
    "data.shape"
   ]
  },
  {
   "cell_type": "code",
   "execution_count": 24,
   "id": "3749c803",
   "metadata": {},
   "outputs": [
    {
     "name": "stdout",
     "output_type": "stream",
     "text": [
      "number of rows 5000\n"
     ]
    }
   ],
   "source": [
    "print(\"number of rows\",data.shape[0])"
   ]
  },
  {
   "cell_type": "code",
   "execution_count": 25,
   "id": "ba3feda0",
   "metadata": {},
   "outputs": [
    {
     "name": "stdout",
     "output_type": "stream",
     "text": [
      "number of columns 6\n"
     ]
    }
   ],
   "source": [
    "print(\"number of columns\",data.shape[1])"
   ]
  },
  {
   "cell_type": "markdown",
   "id": "c515fccf",
   "metadata": {},
   "source": [
    "# 4. Get Information about our dataset like total number of rows, columns, datatypes & memory requirement"
   ]
  },
  {
   "cell_type": "code",
   "execution_count": 112,
   "id": "cf2d48d0",
   "metadata": {},
   "outputs": [
    {
     "name": "stdout",
     "output_type": "stream",
     "text": [
      "<class 'pandas.core.frame.DataFrame'>\n",
      "RangeIndex: 5000 entries, 0 to 4999\n",
      "Data columns (total 6 columns):\n",
      " #   Column         Non-Null Count  Dtype \n",
      "---  ------         --------------  ----- \n",
      " 0   Rank           5000 non-null   object\n",
      " 1   Grade          5000 non-null   object\n",
      " 2   Channel name   5000 non-null   object\n",
      " 3   Video Uploads  5000 non-null   object\n",
      " 4   Subscribers    5000 non-null   object\n",
      " 5   Video views    5000 non-null   int64 \n",
      "dtypes: int64(1), object(5)\n",
      "memory usage: 234.5+ KB\n"
     ]
    }
   ],
   "source": [
    "data.info()"
   ]
  },
  {
   "cell_type": "code",
   "execution_count": 30,
   "id": "54731124",
   "metadata": {},
   "outputs": [],
   "source": [
    "# as we can see that it had also given us non null values in our dataset, also we can see the datatype for each column\n"
   ]
  },
  {
   "cell_type": "code",
   "execution_count": null,
   "id": "6b7d07e8",
   "metadata": {},
   "outputs": [],
   "source": []
  },
  {
   "cell_type": "markdown",
   "id": "f74e3d49",
   "metadata": {},
   "source": [
    "# 5. Get overall statistics about our dataframe"
   ]
  },
  {
   "cell_type": "code",
   "execution_count": 113,
   "id": "ec469d1d",
   "metadata": {},
   "outputs": [
    {
     "data": {
      "text/html": [
       "<div>\n",
       "<style scoped>\n",
       "    .dataframe tbody tr th:only-of-type {\n",
       "        vertical-align: middle;\n",
       "    }\n",
       "\n",
       "    .dataframe tbody tr th {\n",
       "        vertical-align: top;\n",
       "    }\n",
       "\n",
       "    .dataframe thead th {\n",
       "        text-align: right;\n",
       "    }\n",
       "</style>\n",
       "<table border=\"1\" class=\"dataframe\">\n",
       "  <thead>\n",
       "    <tr style=\"text-align: right;\">\n",
       "      <th></th>\n",
       "      <th>Video views</th>\n",
       "    </tr>\n",
       "  </thead>\n",
       "  <tbody>\n",
       "    <tr>\n",
       "      <th>count</th>\n",
       "      <td>5000.00</td>\n",
       "    </tr>\n",
       "    <tr>\n",
       "      <th>mean</th>\n",
       "      <td>1071449400.15</td>\n",
       "    </tr>\n",
       "    <tr>\n",
       "      <th>std</th>\n",
       "      <td>2003843972.12</td>\n",
       "    </tr>\n",
       "    <tr>\n",
       "      <th>min</th>\n",
       "      <td>75.00</td>\n",
       "    </tr>\n",
       "    <tr>\n",
       "      <th>25%</th>\n",
       "      <td>186232945.75</td>\n",
       "    </tr>\n",
       "    <tr>\n",
       "      <th>50%</th>\n",
       "      <td>482054780.00</td>\n",
       "    </tr>\n",
       "    <tr>\n",
       "      <th>75%</th>\n",
       "      <td>1124367826.75</td>\n",
       "    </tr>\n",
       "    <tr>\n",
       "      <th>max</th>\n",
       "      <td>47548839843.00</td>\n",
       "    </tr>\n",
       "  </tbody>\n",
       "</table>\n",
       "</div>"
      ],
      "text/plain": [
       "         Video views\n",
       "count        5000.00\n",
       "mean   1071449400.15\n",
       "std    2003843972.12\n",
       "min            75.00\n",
       "25%     186232945.75\n",
       "50%     482054780.00\n",
       "75%    1124367826.75\n",
       "max   47548839843.00"
      ]
     },
     "execution_count": 113,
     "metadata": {},
     "output_type": "execute_result"
    }
   ],
   "source": [
    "data.describe() #as we have only 1 integrer column, so we are getting only that column for our describe function, as sall the columns are object"
   ]
  },
  {
   "cell_type": "code",
   "execution_count": 34,
   "id": "7bc14604",
   "metadata": {},
   "outputs": [],
   "source": [
    "#but as you can see the data is showing in exponential format but we need to conevrt in decimal format so we can read it properly"
   ]
  },
  {
   "cell_type": "code",
   "execution_count": 114,
   "id": "eaad8940",
   "metadata": {},
   "outputs": [],
   "source": [
    "#this below function means to display data in decimal format with 2 decimal values\n",
    "pd.options.display.float_format='{:.2f}'.format\n"
   ]
  },
  {
   "cell_type": "code",
   "execution_count": 39,
   "id": "f5a43e13",
   "metadata": {},
   "outputs": [
    {
     "data": {
      "text/html": [
       "<div>\n",
       "<style scoped>\n",
       "    .dataframe tbody tr th:only-of-type {\n",
       "        vertical-align: middle;\n",
       "    }\n",
       "\n",
       "    .dataframe tbody tr th {\n",
       "        vertical-align: top;\n",
       "    }\n",
       "\n",
       "    .dataframe thead th {\n",
       "        text-align: right;\n",
       "    }\n",
       "</style>\n",
       "<table border=\"1\" class=\"dataframe\">\n",
       "  <thead>\n",
       "    <tr style=\"text-align: right;\">\n",
       "      <th></th>\n",
       "      <th>Video views</th>\n",
       "    </tr>\n",
       "  </thead>\n",
       "  <tbody>\n",
       "    <tr>\n",
       "      <th>count</th>\n",
       "      <td>5000.00</td>\n",
       "    </tr>\n",
       "    <tr>\n",
       "      <th>mean</th>\n",
       "      <td>1071449400.15</td>\n",
       "    </tr>\n",
       "    <tr>\n",
       "      <th>std</th>\n",
       "      <td>2003843972.12</td>\n",
       "    </tr>\n",
       "    <tr>\n",
       "      <th>min</th>\n",
       "      <td>75.00</td>\n",
       "    </tr>\n",
       "    <tr>\n",
       "      <th>25%</th>\n",
       "      <td>186232945.75</td>\n",
       "    </tr>\n",
       "    <tr>\n",
       "      <th>50%</th>\n",
       "      <td>482054780.00</td>\n",
       "    </tr>\n",
       "    <tr>\n",
       "      <th>75%</th>\n",
       "      <td>1124367826.75</td>\n",
       "    </tr>\n",
       "    <tr>\n",
       "      <th>max</th>\n",
       "      <td>47548839843.00</td>\n",
       "    </tr>\n",
       "  </tbody>\n",
       "</table>\n",
       "</div>"
      ],
      "text/plain": [
       "         Video views\n",
       "count        5000.00\n",
       "mean   1071449400.15\n",
       "std    2003843972.12\n",
       "min            75.00\n",
       "25%     186232945.75\n",
       "50%     482054780.00\n",
       "75%    1124367826.75\n",
       "max   47548839843.00"
      ]
     },
     "execution_count": 39,
     "metadata": {},
     "output_type": "execute_result"
    }
   ],
   "source": [
    "data.describe() #as you can see now the data is showing in much better & readable format"
   ]
  },
  {
   "cell_type": "code",
   "execution_count": null,
   "id": "ab61faee",
   "metadata": {},
   "outputs": [],
   "source": []
  },
  {
   "cell_type": "markdown",
   "id": "c5156af1",
   "metadata": {},
   "source": [
    "# 6. Data Cleaning (Replace'--' to NaN)"
   ]
  },
  {
   "cell_type": "code",
   "execution_count": 115,
   "id": "537e8a89",
   "metadata": {},
   "outputs": [
    {
     "data": {
      "text/html": [
       "<div>\n",
       "<style scoped>\n",
       "    .dataframe tbody tr th:only-of-type {\n",
       "        vertical-align: middle;\n",
       "    }\n",
       "\n",
       "    .dataframe tbody tr th {\n",
       "        vertical-align: top;\n",
       "    }\n",
       "\n",
       "    .dataframe thead th {\n",
       "        text-align: right;\n",
       "    }\n",
       "</style>\n",
       "<table border=\"1\" class=\"dataframe\">\n",
       "  <thead>\n",
       "    <tr style=\"text-align: right;\">\n",
       "      <th></th>\n",
       "      <th>Rank</th>\n",
       "      <th>Grade</th>\n",
       "      <th>Channel name</th>\n",
       "      <th>Video Uploads</th>\n",
       "      <th>Subscribers</th>\n",
       "      <th>Video views</th>\n",
       "    </tr>\n",
       "  </thead>\n",
       "  <tbody>\n",
       "    <tr>\n",
       "      <th>0</th>\n",
       "      <td>1st</td>\n",
       "      <td>A++</td>\n",
       "      <td>Zee TV</td>\n",
       "      <td>82757</td>\n",
       "      <td>18752951</td>\n",
       "      <td>20869786591</td>\n",
       "    </tr>\n",
       "    <tr>\n",
       "      <th>1</th>\n",
       "      <td>2nd</td>\n",
       "      <td>A++</td>\n",
       "      <td>T-Series</td>\n",
       "      <td>12661</td>\n",
       "      <td>61196302</td>\n",
       "      <td>47548839843</td>\n",
       "    </tr>\n",
       "    <tr>\n",
       "      <th>2</th>\n",
       "      <td>3rd</td>\n",
       "      <td>A++</td>\n",
       "      <td>Cocomelon - Nursery Rhymes</td>\n",
       "      <td>373</td>\n",
       "      <td>19238251</td>\n",
       "      <td>9793305082</td>\n",
       "    </tr>\n",
       "    <tr>\n",
       "      <th>3</th>\n",
       "      <td>4th</td>\n",
       "      <td>A++</td>\n",
       "      <td>SET India</td>\n",
       "      <td>27323</td>\n",
       "      <td>31180559</td>\n",
       "      <td>22675948293</td>\n",
       "    </tr>\n",
       "    <tr>\n",
       "      <th>4</th>\n",
       "      <td>5th</td>\n",
       "      <td>A++</td>\n",
       "      <td>WWE</td>\n",
       "      <td>36756</td>\n",
       "      <td>32852346</td>\n",
       "      <td>26273668433</td>\n",
       "    </tr>\n",
       "    <tr>\n",
       "      <th>5</th>\n",
       "      <td>6th</td>\n",
       "      <td>A++</td>\n",
       "      <td>Movieclips</td>\n",
       "      <td>30243</td>\n",
       "      <td>17149705</td>\n",
       "      <td>16618094724</td>\n",
       "    </tr>\n",
       "    <tr>\n",
       "      <th>6</th>\n",
       "      <td>7th</td>\n",
       "      <td>A++</td>\n",
       "      <td>netd müzik</td>\n",
       "      <td>8500</td>\n",
       "      <td>11373567</td>\n",
       "      <td>23898730764</td>\n",
       "    </tr>\n",
       "    <tr>\n",
       "      <th>7</th>\n",
       "      <td>8th</td>\n",
       "      <td>A++</td>\n",
       "      <td>ABS-CBN Entertainment</td>\n",
       "      <td>100147</td>\n",
       "      <td>12149206</td>\n",
       "      <td>17202609850</td>\n",
       "    </tr>\n",
       "    <tr>\n",
       "      <th>8</th>\n",
       "      <td>9th</td>\n",
       "      <td>A++</td>\n",
       "      <td>Ryan ToysReview</td>\n",
       "      <td>1140</td>\n",
       "      <td>16082927</td>\n",
       "      <td>24518098041</td>\n",
       "    </tr>\n",
       "    <tr>\n",
       "      <th>9</th>\n",
       "      <td>10th</td>\n",
       "      <td>A++</td>\n",
       "      <td>Zee Marathi</td>\n",
       "      <td>74607</td>\n",
       "      <td>2841811</td>\n",
       "      <td>2591830307</td>\n",
       "    </tr>\n",
       "    <tr>\n",
       "      <th>10</th>\n",
       "      <td>11th</td>\n",
       "      <td>A+</td>\n",
       "      <td>5-Minute Crafts</td>\n",
       "      <td>2085</td>\n",
       "      <td>33492951</td>\n",
       "      <td>8587520379</td>\n",
       "    </tr>\n",
       "    <tr>\n",
       "      <th>11</th>\n",
       "      <td>12th</td>\n",
       "      <td>A+</td>\n",
       "      <td>Canal KondZilla</td>\n",
       "      <td>822</td>\n",
       "      <td>39409726</td>\n",
       "      <td>19291034467</td>\n",
       "    </tr>\n",
       "    <tr>\n",
       "      <th>12</th>\n",
       "      <td>13th</td>\n",
       "      <td>A+</td>\n",
       "      <td>Like Nastya Vlog</td>\n",
       "      <td>150</td>\n",
       "      <td>7662886</td>\n",
       "      <td>2540099931</td>\n",
       "    </tr>\n",
       "    <tr>\n",
       "      <th>13</th>\n",
       "      <td>14th</td>\n",
       "      <td>A+</td>\n",
       "      <td>Ozuna</td>\n",
       "      <td>50</td>\n",
       "      <td>18824912</td>\n",
       "      <td>8727783225</td>\n",
       "    </tr>\n",
       "    <tr>\n",
       "      <th>14</th>\n",
       "      <td>15th</td>\n",
       "      <td>A+</td>\n",
       "      <td>Wave Music</td>\n",
       "      <td>16119</td>\n",
       "      <td>15899764</td>\n",
       "      <td>10989179147</td>\n",
       "    </tr>\n",
       "    <tr>\n",
       "      <th>15</th>\n",
       "      <td>16th</td>\n",
       "      <td>A+</td>\n",
       "      <td>Ch3Thailand</td>\n",
       "      <td>49239</td>\n",
       "      <td>11569723</td>\n",
       "      <td>9388600275</td>\n",
       "    </tr>\n",
       "    <tr>\n",
       "      <th>16</th>\n",
       "      <td>17th</td>\n",
       "      <td>A+</td>\n",
       "      <td>WORLDSTARHIPHOP</td>\n",
       "      <td>4778</td>\n",
       "      <td>15830098</td>\n",
       "      <td>11102158475</td>\n",
       "    </tr>\n",
       "    <tr>\n",
       "      <th>17</th>\n",
       "      <td>18th</td>\n",
       "      <td>A+</td>\n",
       "      <td>Vlad and Nikita</td>\n",
       "      <td>53</td>\n",
       "      <td>--</td>\n",
       "      <td>1428274554</td>\n",
       "    </tr>\n",
       "    <tr>\n",
       "      <th>18</th>\n",
       "      <td>19th</td>\n",
       "      <td>A+</td>\n",
       "      <td>Badabun</td>\n",
       "      <td>3060</td>\n",
       "      <td>23603062</td>\n",
       "      <td>5860444053</td>\n",
       "    </tr>\n",
       "    <tr>\n",
       "      <th>19</th>\n",
       "      <td>20th</td>\n",
       "      <td>A+</td>\n",
       "      <td>WorkpointOfficial</td>\n",
       "      <td>24287</td>\n",
       "      <td>17687229</td>\n",
       "      <td>14022189654</td>\n",
       "    </tr>\n",
       "  </tbody>\n",
       "</table>\n",
       "</div>"
      ],
      "text/plain": [
       "    Rank Grade                Channel name Video Uploads Subscribers  \\\n",
       "0    1st  A++                       Zee TV         82757    18752951   \n",
       "1    2nd  A++                     T-Series         12661    61196302   \n",
       "2    3rd  A++   Cocomelon - Nursery Rhymes           373    19238251   \n",
       "3    4th  A++                    SET India         27323    31180559   \n",
       "4    5th  A++                          WWE         36756    32852346   \n",
       "5    6th  A++                   Movieclips         30243    17149705   \n",
       "6    7th  A++                   netd müzik          8500    11373567   \n",
       "7    8th  A++        ABS-CBN Entertainment        100147    12149206   \n",
       "8    9th  A++              Ryan ToysReview          1140    16082927   \n",
       "9   10th  A++                  Zee Marathi         74607     2841811   \n",
       "10  11th   A+              5-Minute Crafts          2085    33492951   \n",
       "11  12th   A+              Canal KondZilla           822    39409726   \n",
       "12  13th   A+             Like Nastya Vlog           150     7662886   \n",
       "13  14th   A+                        Ozuna            50    18824912   \n",
       "14  15th   A+                   Wave Music         16119    15899764   \n",
       "15  16th   A+                  Ch3Thailand         49239    11569723   \n",
       "16  17th   A+              WORLDSTARHIPHOP          4778    15830098   \n",
       "17  18th   A+              Vlad and Nikita            53         --    \n",
       "18  19th   A+                      Badabun          3060    23603062   \n",
       "19  20th   A+            WorkpointOfficial         24287    17687229   \n",
       "\n",
       "    Video views  \n",
       "0   20869786591  \n",
       "1   47548839843  \n",
       "2    9793305082  \n",
       "3   22675948293  \n",
       "4   26273668433  \n",
       "5   16618094724  \n",
       "6   23898730764  \n",
       "7   17202609850  \n",
       "8   24518098041  \n",
       "9    2591830307  \n",
       "10   8587520379  \n",
       "11  19291034467  \n",
       "12   2540099931  \n",
       "13   8727783225  \n",
       "14  10989179147  \n",
       "15   9388600275  \n",
       "16  11102158475  \n",
       "17   1428274554  \n",
       "18   5860444053  \n",
       "19  14022189654  "
      ]
     },
     "execution_count": 115,
     "metadata": {},
     "output_type": "execute_result"
    }
   ],
   "source": [
    "data.head(20)"
   ]
  },
  {
   "cell_type": "code",
   "execution_count": 41,
   "id": "96a71864",
   "metadata": {},
   "outputs": [],
   "source": [
    "#as you can see that in the subsrciber column we have --, so we need to replace it"
   ]
  },
  {
   "cell_type": "code",
   "execution_count": 116,
   "id": "e5701a3e",
   "metadata": {},
   "outputs": [],
   "source": [
    "data=data.replace('--',np.nan,regex=True)"
   ]
  },
  {
   "cell_type": "code",
   "execution_count": 117,
   "id": "37e65fd7",
   "metadata": {},
   "outputs": [
    {
     "data": {
      "text/html": [
       "<div>\n",
       "<style scoped>\n",
       "    .dataframe tbody tr th:only-of-type {\n",
       "        vertical-align: middle;\n",
       "    }\n",
       "\n",
       "    .dataframe tbody tr th {\n",
       "        vertical-align: top;\n",
       "    }\n",
       "\n",
       "    .dataframe thead th {\n",
       "        text-align: right;\n",
       "    }\n",
       "</style>\n",
       "<table border=\"1\" class=\"dataframe\">\n",
       "  <thead>\n",
       "    <tr style=\"text-align: right;\">\n",
       "      <th></th>\n",
       "      <th>Rank</th>\n",
       "      <th>Grade</th>\n",
       "      <th>Channel name</th>\n",
       "      <th>Video Uploads</th>\n",
       "      <th>Subscribers</th>\n",
       "      <th>Video views</th>\n",
       "    </tr>\n",
       "  </thead>\n",
       "  <tbody>\n",
       "    <tr>\n",
       "      <th>0</th>\n",
       "      <td>1st</td>\n",
       "      <td>A++</td>\n",
       "      <td>Zee TV</td>\n",
       "      <td>82757</td>\n",
       "      <td>18752951</td>\n",
       "      <td>20869786591</td>\n",
       "    </tr>\n",
       "    <tr>\n",
       "      <th>1</th>\n",
       "      <td>2nd</td>\n",
       "      <td>A++</td>\n",
       "      <td>T-Series</td>\n",
       "      <td>12661</td>\n",
       "      <td>61196302</td>\n",
       "      <td>47548839843</td>\n",
       "    </tr>\n",
       "    <tr>\n",
       "      <th>2</th>\n",
       "      <td>3rd</td>\n",
       "      <td>A++</td>\n",
       "      <td>Cocomelon - Nursery Rhymes</td>\n",
       "      <td>373</td>\n",
       "      <td>19238251</td>\n",
       "      <td>9793305082</td>\n",
       "    </tr>\n",
       "    <tr>\n",
       "      <th>3</th>\n",
       "      <td>4th</td>\n",
       "      <td>A++</td>\n",
       "      <td>SET India</td>\n",
       "      <td>27323</td>\n",
       "      <td>31180559</td>\n",
       "      <td>22675948293</td>\n",
       "    </tr>\n",
       "    <tr>\n",
       "      <th>4</th>\n",
       "      <td>5th</td>\n",
       "      <td>A++</td>\n",
       "      <td>WWE</td>\n",
       "      <td>36756</td>\n",
       "      <td>32852346</td>\n",
       "      <td>26273668433</td>\n",
       "    </tr>\n",
       "    <tr>\n",
       "      <th>5</th>\n",
       "      <td>6th</td>\n",
       "      <td>A++</td>\n",
       "      <td>Movieclips</td>\n",
       "      <td>30243</td>\n",
       "      <td>17149705</td>\n",
       "      <td>16618094724</td>\n",
       "    </tr>\n",
       "    <tr>\n",
       "      <th>6</th>\n",
       "      <td>7th</td>\n",
       "      <td>A++</td>\n",
       "      <td>netd müzik</td>\n",
       "      <td>8500</td>\n",
       "      <td>11373567</td>\n",
       "      <td>23898730764</td>\n",
       "    </tr>\n",
       "    <tr>\n",
       "      <th>7</th>\n",
       "      <td>8th</td>\n",
       "      <td>A++</td>\n",
       "      <td>ABS-CBN Entertainment</td>\n",
       "      <td>100147</td>\n",
       "      <td>12149206</td>\n",
       "      <td>17202609850</td>\n",
       "    </tr>\n",
       "    <tr>\n",
       "      <th>8</th>\n",
       "      <td>9th</td>\n",
       "      <td>A++</td>\n",
       "      <td>Ryan ToysReview</td>\n",
       "      <td>1140</td>\n",
       "      <td>16082927</td>\n",
       "      <td>24518098041</td>\n",
       "    </tr>\n",
       "    <tr>\n",
       "      <th>9</th>\n",
       "      <td>10th</td>\n",
       "      <td>A++</td>\n",
       "      <td>Zee Marathi</td>\n",
       "      <td>74607</td>\n",
       "      <td>2841811</td>\n",
       "      <td>2591830307</td>\n",
       "    </tr>\n",
       "    <tr>\n",
       "      <th>10</th>\n",
       "      <td>11th</td>\n",
       "      <td>A+</td>\n",
       "      <td>5-Minute Crafts</td>\n",
       "      <td>2085</td>\n",
       "      <td>33492951</td>\n",
       "      <td>8587520379</td>\n",
       "    </tr>\n",
       "    <tr>\n",
       "      <th>11</th>\n",
       "      <td>12th</td>\n",
       "      <td>A+</td>\n",
       "      <td>Canal KondZilla</td>\n",
       "      <td>822</td>\n",
       "      <td>39409726</td>\n",
       "      <td>19291034467</td>\n",
       "    </tr>\n",
       "    <tr>\n",
       "      <th>12</th>\n",
       "      <td>13th</td>\n",
       "      <td>A+</td>\n",
       "      <td>Like Nastya Vlog</td>\n",
       "      <td>150</td>\n",
       "      <td>7662886</td>\n",
       "      <td>2540099931</td>\n",
       "    </tr>\n",
       "    <tr>\n",
       "      <th>13</th>\n",
       "      <td>14th</td>\n",
       "      <td>A+</td>\n",
       "      <td>Ozuna</td>\n",
       "      <td>50</td>\n",
       "      <td>18824912</td>\n",
       "      <td>8727783225</td>\n",
       "    </tr>\n",
       "    <tr>\n",
       "      <th>14</th>\n",
       "      <td>15th</td>\n",
       "      <td>A+</td>\n",
       "      <td>Wave Music</td>\n",
       "      <td>16119</td>\n",
       "      <td>15899764</td>\n",
       "      <td>10989179147</td>\n",
       "    </tr>\n",
       "    <tr>\n",
       "      <th>15</th>\n",
       "      <td>16th</td>\n",
       "      <td>A+</td>\n",
       "      <td>Ch3Thailand</td>\n",
       "      <td>49239</td>\n",
       "      <td>11569723</td>\n",
       "      <td>9388600275</td>\n",
       "    </tr>\n",
       "    <tr>\n",
       "      <th>16</th>\n",
       "      <td>17th</td>\n",
       "      <td>A+</td>\n",
       "      <td>WORLDSTARHIPHOP</td>\n",
       "      <td>4778</td>\n",
       "      <td>15830098</td>\n",
       "      <td>11102158475</td>\n",
       "    </tr>\n",
       "    <tr>\n",
       "      <th>17</th>\n",
       "      <td>18th</td>\n",
       "      <td>A+</td>\n",
       "      <td>Vlad and Nikita</td>\n",
       "      <td>53</td>\n",
       "      <td>NaN</td>\n",
       "      <td>1428274554</td>\n",
       "    </tr>\n",
       "    <tr>\n",
       "      <th>18</th>\n",
       "      <td>19th</td>\n",
       "      <td>A+</td>\n",
       "      <td>Badabun</td>\n",
       "      <td>3060</td>\n",
       "      <td>23603062</td>\n",
       "      <td>5860444053</td>\n",
       "    </tr>\n",
       "    <tr>\n",
       "      <th>19</th>\n",
       "      <td>20th</td>\n",
       "      <td>A+</td>\n",
       "      <td>WorkpointOfficial</td>\n",
       "      <td>24287</td>\n",
       "      <td>17687229</td>\n",
       "      <td>14022189654</td>\n",
       "    </tr>\n",
       "  </tbody>\n",
       "</table>\n",
       "</div>"
      ],
      "text/plain": [
       "    Rank Grade                Channel name Video Uploads Subscribers  \\\n",
       "0    1st  A++                       Zee TV         82757    18752951   \n",
       "1    2nd  A++                     T-Series         12661    61196302   \n",
       "2    3rd  A++   Cocomelon - Nursery Rhymes           373    19238251   \n",
       "3    4th  A++                    SET India         27323    31180559   \n",
       "4    5th  A++                          WWE         36756    32852346   \n",
       "5    6th  A++                   Movieclips         30243    17149705   \n",
       "6    7th  A++                   netd müzik          8500    11373567   \n",
       "7    8th  A++        ABS-CBN Entertainment        100147    12149206   \n",
       "8    9th  A++              Ryan ToysReview          1140    16082927   \n",
       "9   10th  A++                  Zee Marathi         74607     2841811   \n",
       "10  11th   A+              5-Minute Crafts          2085    33492951   \n",
       "11  12th   A+              Canal KondZilla           822    39409726   \n",
       "12  13th   A+             Like Nastya Vlog           150     7662886   \n",
       "13  14th   A+                        Ozuna            50    18824912   \n",
       "14  15th   A+                   Wave Music         16119    15899764   \n",
       "15  16th   A+                  Ch3Thailand         49239    11569723   \n",
       "16  17th   A+              WORLDSTARHIPHOP          4778    15830098   \n",
       "17  18th   A+              Vlad and Nikita            53         NaN   \n",
       "18  19th   A+                      Badabun          3060    23603062   \n",
       "19  20th   A+            WorkpointOfficial         24287    17687229   \n",
       "\n",
       "    Video views  \n",
       "0   20869786591  \n",
       "1   47548839843  \n",
       "2    9793305082  \n",
       "3   22675948293  \n",
       "4   26273668433  \n",
       "5   16618094724  \n",
       "6   23898730764  \n",
       "7   17202609850  \n",
       "8   24518098041  \n",
       "9    2591830307  \n",
       "10   8587520379  \n",
       "11  19291034467  \n",
       "12   2540099931  \n",
       "13   8727783225  \n",
       "14  10989179147  \n",
       "15   9388600275  \n",
       "16  11102158475  \n",
       "17   1428274554  \n",
       "18   5860444053  \n",
       "19  14022189654  "
      ]
     },
     "execution_count": 117,
     "metadata": {},
     "output_type": "execute_result"
    }
   ],
   "source": [
    "data.head(20) #as you can see that now it is converted into Nan"
   ]
  },
  {
   "cell_type": "code",
   "execution_count": null,
   "id": "142d6c6e",
   "metadata": {},
   "outputs": [],
   "source": []
  },
  {
   "cell_type": "markdown",
   "id": "69ed201a",
   "metadata": {},
   "source": [
    "# 7. Check null values in the dataset"
   ]
  },
  {
   "cell_type": "code",
   "execution_count": 118,
   "id": "03b646bf",
   "metadata": {},
   "outputs": [
    {
     "data": {
      "text/html": [
       "<div>\n",
       "<style scoped>\n",
       "    .dataframe tbody tr th:only-of-type {\n",
       "        vertical-align: middle;\n",
       "    }\n",
       "\n",
       "    .dataframe tbody tr th {\n",
       "        vertical-align: top;\n",
       "    }\n",
       "\n",
       "    .dataframe thead th {\n",
       "        text-align: right;\n",
       "    }\n",
       "</style>\n",
       "<table border=\"1\" class=\"dataframe\">\n",
       "  <thead>\n",
       "    <tr style=\"text-align: right;\">\n",
       "      <th></th>\n",
       "      <th>Rank</th>\n",
       "      <th>Grade</th>\n",
       "      <th>Channel name</th>\n",
       "      <th>Video Uploads</th>\n",
       "      <th>Subscribers</th>\n",
       "      <th>Video views</th>\n",
       "    </tr>\n",
       "  </thead>\n",
       "  <tbody>\n",
       "    <tr>\n",
       "      <th>0</th>\n",
       "      <td>False</td>\n",
       "      <td>False</td>\n",
       "      <td>False</td>\n",
       "      <td>False</td>\n",
       "      <td>False</td>\n",
       "      <td>False</td>\n",
       "    </tr>\n",
       "    <tr>\n",
       "      <th>1</th>\n",
       "      <td>False</td>\n",
       "      <td>False</td>\n",
       "      <td>False</td>\n",
       "      <td>False</td>\n",
       "      <td>False</td>\n",
       "      <td>False</td>\n",
       "    </tr>\n",
       "    <tr>\n",
       "      <th>2</th>\n",
       "      <td>False</td>\n",
       "      <td>False</td>\n",
       "      <td>False</td>\n",
       "      <td>False</td>\n",
       "      <td>False</td>\n",
       "      <td>False</td>\n",
       "    </tr>\n",
       "    <tr>\n",
       "      <th>3</th>\n",
       "      <td>False</td>\n",
       "      <td>False</td>\n",
       "      <td>False</td>\n",
       "      <td>False</td>\n",
       "      <td>False</td>\n",
       "      <td>False</td>\n",
       "    </tr>\n",
       "    <tr>\n",
       "      <th>4</th>\n",
       "      <td>False</td>\n",
       "      <td>False</td>\n",
       "      <td>False</td>\n",
       "      <td>False</td>\n",
       "      <td>False</td>\n",
       "      <td>False</td>\n",
       "    </tr>\n",
       "    <tr>\n",
       "      <th>...</th>\n",
       "      <td>...</td>\n",
       "      <td>...</td>\n",
       "      <td>...</td>\n",
       "      <td>...</td>\n",
       "      <td>...</td>\n",
       "      <td>...</td>\n",
       "    </tr>\n",
       "    <tr>\n",
       "      <th>4995</th>\n",
       "      <td>False</td>\n",
       "      <td>False</td>\n",
       "      <td>False</td>\n",
       "      <td>False</td>\n",
       "      <td>False</td>\n",
       "      <td>False</td>\n",
       "    </tr>\n",
       "    <tr>\n",
       "      <th>4996</th>\n",
       "      <td>False</td>\n",
       "      <td>False</td>\n",
       "      <td>False</td>\n",
       "      <td>False</td>\n",
       "      <td>False</td>\n",
       "      <td>False</td>\n",
       "    </tr>\n",
       "    <tr>\n",
       "      <th>4997</th>\n",
       "      <td>False</td>\n",
       "      <td>False</td>\n",
       "      <td>False</td>\n",
       "      <td>False</td>\n",
       "      <td>False</td>\n",
       "      <td>False</td>\n",
       "    </tr>\n",
       "    <tr>\n",
       "      <th>4998</th>\n",
       "      <td>False</td>\n",
       "      <td>False</td>\n",
       "      <td>False</td>\n",
       "      <td>False</td>\n",
       "      <td>False</td>\n",
       "      <td>False</td>\n",
       "    </tr>\n",
       "    <tr>\n",
       "      <th>4999</th>\n",
       "      <td>False</td>\n",
       "      <td>False</td>\n",
       "      <td>False</td>\n",
       "      <td>False</td>\n",
       "      <td>False</td>\n",
       "      <td>False</td>\n",
       "    </tr>\n",
       "  </tbody>\n",
       "</table>\n",
       "<p>5000 rows × 6 columns</p>\n",
       "</div>"
      ],
      "text/plain": [
       "       Rank  Grade  Channel name  Video Uploads  Subscribers  Video views\n",
       "0     False  False         False          False        False        False\n",
       "1     False  False         False          False        False        False\n",
       "2     False  False         False          False        False        False\n",
       "3     False  False         False          False        False        False\n",
       "4     False  False         False          False        False        False\n",
       "...     ...    ...           ...            ...          ...          ...\n",
       "4995  False  False         False          False        False        False\n",
       "4996  False  False         False          False        False        False\n",
       "4997  False  False         False          False        False        False\n",
       "4998  False  False         False          False        False        False\n",
       "4999  False  False         False          False        False        False\n",
       "\n",
       "[5000 rows x 6 columns]"
      ]
     },
     "execution_count": 118,
     "metadata": {},
     "output_type": "execute_result"
    }
   ],
   "source": [
    "data.isnull()"
   ]
  },
  {
   "cell_type": "code",
   "execution_count": 119,
   "id": "ad252137",
   "metadata": {},
   "outputs": [
    {
     "data": {
      "text/plain": [
       "Rank               0\n",
       "Grade              0\n",
       "Channel name       0\n",
       "Video Uploads      6\n",
       "Subscribers      387\n",
       "Video views        0\n",
       "dtype: int64"
      ]
     },
     "execution_count": 119,
     "metadata": {},
     "output_type": "execute_result"
    }
   ],
   "source": [
    "data.isnull().sum()"
   ]
  },
  {
   "cell_type": "code",
   "execution_count": 49,
   "id": "33e0fb4b",
   "metadata": {},
   "outputs": [],
   "source": [
    "#as you can see that we have null values in subscriber column & video upload column"
   ]
  },
  {
   "cell_type": "code",
   "execution_count": 120,
   "id": "c3d95b79",
   "metadata": {},
   "outputs": [],
   "source": [
    "per_missing=data.isnull().sum()*100/len(data) #we are doing this to find out the percent of missing values"
   ]
  },
  {
   "cell_type": "code",
   "execution_count": 121,
   "id": "0b46f3eb",
   "metadata": {},
   "outputs": [
    {
     "data": {
      "text/plain": [
       "Rank            0.00\n",
       "Grade           0.00\n",
       "Channel name    0.00\n",
       "Video Uploads   0.12\n",
       "Subscribers     7.74\n",
       "Video views     0.00\n",
       "dtype: float64"
      ]
     },
     "execution_count": 121,
     "metadata": {},
     "output_type": "execute_result"
    }
   ],
   "source": [
    "per_missing #as we can see that video uploads has 12% missing data while the subscriber column has 7.74% of missing data"
   ]
  },
  {
   "cell_type": "code",
   "execution_count": 122,
   "id": "b73271b8",
   "metadata": {},
   "outputs": [
    {
     "data": {
      "text/plain": [
       "<Axes: >"
      ]
     },
     "execution_count": 122,
     "metadata": {},
     "output_type": "execute_result"
    },
    {
     "data": {
      "image/png": "[encoded data removed]",
      "text/plain": [
       "<Figure size 640x480 with 2 Axes>"
      ]
     },
     "metadata": {},
     "output_type": "display_data"
    }
   ],
   "source": [
    "sns.heatmap(data.isnull())"
   ]
  },
  {
   "cell_type": "code",
   "execution_count": 123,
   "id": "8849a1c3",
   "metadata": {},
   "outputs": [],
   "source": [
    "data.dropna(axis=0,inplace=True) #we are dropping the rows with missing values"
   ]
  },
  {
   "cell_type": "code",
   "execution_count": 124,
   "id": "c7a3e218",
   "metadata": {},
   "outputs": [
    {
     "data": {
      "text/plain": [
       "<Axes: >"
      ]
     },
     "execution_count": 124,
     "metadata": {},
     "output_type": "execute_result"
    },
    {
     "data": {
      "image/png": "[encoded data removed]",
      "text/plain": [
       "<Figure size 640x480 with 2 Axes>"
      ]
     },
     "metadata": {},
     "output_type": "display_data"
    }
   ],
   "source": [
    "sns.heatmap(data.isnull()) #as you can see that there are no missing values in our data set"
   ]
  },
  {
   "cell_type": "code",
   "execution_count": null,
   "id": "8b401bdb",
   "metadata": {},
   "outputs": [],
   "source": []
  },
  {
   "cell_type": "markdown",
   "id": "86024422",
   "metadata": {},
   "source": [
    "# 8. Data Cleaning [Rank Column]"
   ]
  },
  {
   "cell_type": "code",
   "execution_count": 125,
   "id": "739f4300",
   "metadata": {},
   "outputs": [
    {
     "data": {
      "text/html": [
       "<div>\n",
       "<style scoped>\n",
       "    .dataframe tbody tr th:only-of-type {\n",
       "        vertical-align: middle;\n",
       "    }\n",
       "\n",
       "    .dataframe tbody tr th {\n",
       "        vertical-align: top;\n",
       "    }\n",
       "\n",
       "    .dataframe thead th {\n",
       "        text-align: right;\n",
       "    }\n",
       "</style>\n",
       "<table border=\"1\" class=\"dataframe\">\n",
       "  <thead>\n",
       "    <tr style=\"text-align: right;\">\n",
       "      <th></th>\n",
       "      <th>Rank</th>\n",
       "      <th>Grade</th>\n",
       "      <th>Channel name</th>\n",
       "      <th>Video Uploads</th>\n",
       "      <th>Subscribers</th>\n",
       "      <th>Video views</th>\n",
       "    </tr>\n",
       "  </thead>\n",
       "  <tbody>\n",
       "    <tr>\n",
       "      <th>0</th>\n",
       "      <td>1st</td>\n",
       "      <td>A++</td>\n",
       "      <td>Zee TV</td>\n",
       "      <td>82757</td>\n",
       "      <td>18752951</td>\n",
       "      <td>20869786591</td>\n",
       "    </tr>\n",
       "    <tr>\n",
       "      <th>1</th>\n",
       "      <td>2nd</td>\n",
       "      <td>A++</td>\n",
       "      <td>T-Series</td>\n",
       "      <td>12661</td>\n",
       "      <td>61196302</td>\n",
       "      <td>47548839843</td>\n",
       "    </tr>\n",
       "    <tr>\n",
       "      <th>2</th>\n",
       "      <td>3rd</td>\n",
       "      <td>A++</td>\n",
       "      <td>Cocomelon - Nursery Rhymes</td>\n",
       "      <td>373</td>\n",
       "      <td>19238251</td>\n",
       "      <td>9793305082</td>\n",
       "    </tr>\n",
       "    <tr>\n",
       "      <th>3</th>\n",
       "      <td>4th</td>\n",
       "      <td>A++</td>\n",
       "      <td>SET India</td>\n",
       "      <td>27323</td>\n",
       "      <td>31180559</td>\n",
       "      <td>22675948293</td>\n",
       "    </tr>\n",
       "    <tr>\n",
       "      <th>4</th>\n",
       "      <td>5th</td>\n",
       "      <td>A++</td>\n",
       "      <td>WWE</td>\n",
       "      <td>36756</td>\n",
       "      <td>32852346</td>\n",
       "      <td>26273668433</td>\n",
       "    </tr>\n",
       "  </tbody>\n",
       "</table>\n",
       "</div>"
      ],
      "text/plain": [
       "  Rank Grade                Channel name Video Uploads Subscribers  \\\n",
       "0  1st  A++                       Zee TV         82757    18752951   \n",
       "1  2nd  A++                     T-Series         12661    61196302   \n",
       "2  3rd  A++   Cocomelon - Nursery Rhymes           373    19238251   \n",
       "3  4th  A++                    SET India         27323    31180559   \n",
       "4  5th  A++                          WWE         36756    32852346   \n",
       "\n",
       "   Video views  \n",
       "0  20869786591  \n",
       "1  47548839843  \n",
       "2   9793305082  \n",
       "3  22675948293  \n",
       "4  26273668433  "
      ]
     },
     "execution_count": 125,
     "metadata": {},
     "output_type": "execute_result"
    }
   ],
   "source": [
    "data.head()"
   ]
  },
  {
   "cell_type": "code",
   "execution_count": 59,
   "id": "ea19b01b",
   "metadata": {},
   "outputs": [],
   "source": [
    "#as we can see that in the rank column, it is written as 1st, 2nd & so on which is a string, so we are going to remove that string"
   ]
  },
  {
   "cell_type": "code",
   "execution_count": 126,
   "id": "61da7741",
   "metadata": {},
   "outputs": [
    {
     "data": {
      "text/html": [
       "<div>\n",
       "<style scoped>\n",
       "    .dataframe tbody tr th:only-of-type {\n",
       "        vertical-align: middle;\n",
       "    }\n",
       "\n",
       "    .dataframe tbody tr th {\n",
       "        vertical-align: top;\n",
       "    }\n",
       "\n",
       "    .dataframe thead th {\n",
       "        text-align: right;\n",
       "    }\n",
       "</style>\n",
       "<table border=\"1\" class=\"dataframe\">\n",
       "  <thead>\n",
       "    <tr style=\"text-align: right;\">\n",
       "      <th></th>\n",
       "      <th>Rank</th>\n",
       "      <th>Grade</th>\n",
       "      <th>Channel name</th>\n",
       "      <th>Video Uploads</th>\n",
       "      <th>Subscribers</th>\n",
       "      <th>Video views</th>\n",
       "    </tr>\n",
       "  </thead>\n",
       "  <tbody>\n",
       "    <tr>\n",
       "      <th>4995</th>\n",
       "      <td>4,996th</td>\n",
       "      <td>B+</td>\n",
       "      <td>Uras Benlioğlu</td>\n",
       "      <td>706</td>\n",
       "      <td>2072942</td>\n",
       "      <td>441202795</td>\n",
       "    </tr>\n",
       "    <tr>\n",
       "      <th>4996</th>\n",
       "      <td>4,997th</td>\n",
       "      <td>B+</td>\n",
       "      <td>HI-TECH MUSIC LTD</td>\n",
       "      <td>797</td>\n",
       "      <td>1055091</td>\n",
       "      <td>377331722</td>\n",
       "    </tr>\n",
       "    <tr>\n",
       "      <th>4997</th>\n",
       "      <td>4,998th</td>\n",
       "      <td>B+</td>\n",
       "      <td>Mastersaint</td>\n",
       "      <td>110</td>\n",
       "      <td>3265735</td>\n",
       "      <td>311758426</td>\n",
       "    </tr>\n",
       "    <tr>\n",
       "      <th>4998</th>\n",
       "      <td>4,999th</td>\n",
       "      <td>B+</td>\n",
       "      <td>Bruce McIntosh</td>\n",
       "      <td>3475</td>\n",
       "      <td>32990</td>\n",
       "      <td>14563764</td>\n",
       "    </tr>\n",
       "    <tr>\n",
       "      <th>4999</th>\n",
       "      <td>5,000th</td>\n",
       "      <td>B+</td>\n",
       "      <td>SehatAQUA</td>\n",
       "      <td>254</td>\n",
       "      <td>21172</td>\n",
       "      <td>73312511</td>\n",
       "    </tr>\n",
       "  </tbody>\n",
       "</table>\n",
       "</div>"
      ],
      "text/plain": [
       "         Rank Grade       Channel name Video Uploads Subscribers  Video views\n",
       "4995  4,996th   B+      Uras Benlioğlu           706     2072942    441202795\n",
       "4996  4,997th   B+   HI-TECH MUSIC LTD           797     1055091    377331722\n",
       "4997  4,998th   B+         Mastersaint           110     3265735    311758426\n",
       "4998  4,999th   B+      Bruce McIntosh          3475       32990     14563764\n",
       "4999  5,000th   B+           SehatAQUA           254       21172     73312511"
      ]
     },
     "execution_count": 126,
     "metadata": {},
     "output_type": "execute_result"
    }
   ],
   "source": [
    "data.tail()"
   ]
  },
  {
   "cell_type": "code",
   "execution_count": 61,
   "id": "3b664541",
   "metadata": {},
   "outputs": [],
   "source": [
    "#also we can see that there are commas along with  the above string data"
   ]
  },
  {
   "cell_type": "code",
   "execution_count": 127,
   "id": "2602299f",
   "metadata": {},
   "outputs": [
    {
     "data": {
      "text/plain": [
       "Rank             object\n",
       "Grade            object\n",
       "Channel name     object\n",
       "Video Uploads    object\n",
       "Subscribers      object\n",
       "Video views       int64\n",
       "dtype: object"
      ]
     },
     "execution_count": 127,
     "metadata": {},
     "output_type": "execute_result"
    }
   ],
   "source": [
    "data.dtypes"
   ]
  },
  {
   "cell_type": "code",
   "execution_count": 128,
   "id": "3b5e911c",
   "metadata": {},
   "outputs": [],
   "source": [
    "#as we can see that all the column have data types as object, except the video views, so we are going to convert the rank column to interegre data type"
   ]
  },
  {
   "cell_type": "code",
   "execution_count": 129,
   "id": "471d79ad",
   "metadata": {},
   "outputs": [],
   "source": [
    "data['Rank']=data['Rank'].str[0:-2] #here we are using slicing to modify our exiting dataframe"
   ]
  },
  {
   "cell_type": "code",
   "execution_count": 130,
   "id": "9a6b2d97",
   "metadata": {},
   "outputs": [
    {
     "data": {
      "text/html": [
       "<div>\n",
       "<style scoped>\n",
       "    .dataframe tbody tr th:only-of-type {\n",
       "        vertical-align: middle;\n",
       "    }\n",
       "\n",
       "    .dataframe tbody tr th {\n",
       "        vertical-align: top;\n",
       "    }\n",
       "\n",
       "    .dataframe thead th {\n",
       "        text-align: right;\n",
       "    }\n",
       "</style>\n",
       "<table border=\"1\" class=\"dataframe\">\n",
       "  <thead>\n",
       "    <tr style=\"text-align: right;\">\n",
       "      <th></th>\n",
       "      <th>Rank</th>\n",
       "      <th>Grade</th>\n",
       "      <th>Channel name</th>\n",
       "      <th>Video Uploads</th>\n",
       "      <th>Subscribers</th>\n",
       "      <th>Video views</th>\n",
       "    </tr>\n",
       "  </thead>\n",
       "  <tbody>\n",
       "    <tr>\n",
       "      <th>0</th>\n",
       "      <td>1</td>\n",
       "      <td>A++</td>\n",
       "      <td>Zee TV</td>\n",
       "      <td>82757</td>\n",
       "      <td>18752951</td>\n",
       "      <td>20869786591</td>\n",
       "    </tr>\n",
       "    <tr>\n",
       "      <th>1</th>\n",
       "      <td>2</td>\n",
       "      <td>A++</td>\n",
       "      <td>T-Series</td>\n",
       "      <td>12661</td>\n",
       "      <td>61196302</td>\n",
       "      <td>47548839843</td>\n",
       "    </tr>\n",
       "    <tr>\n",
       "      <th>2</th>\n",
       "      <td>3</td>\n",
       "      <td>A++</td>\n",
       "      <td>Cocomelon - Nursery Rhymes</td>\n",
       "      <td>373</td>\n",
       "      <td>19238251</td>\n",
       "      <td>9793305082</td>\n",
       "    </tr>\n",
       "    <tr>\n",
       "      <th>3</th>\n",
       "      <td>4</td>\n",
       "      <td>A++</td>\n",
       "      <td>SET India</td>\n",
       "      <td>27323</td>\n",
       "      <td>31180559</td>\n",
       "      <td>22675948293</td>\n",
       "    </tr>\n",
       "    <tr>\n",
       "      <th>4</th>\n",
       "      <td>5</td>\n",
       "      <td>A++</td>\n",
       "      <td>WWE</td>\n",
       "      <td>36756</td>\n",
       "      <td>32852346</td>\n",
       "      <td>26273668433</td>\n",
       "    </tr>\n",
       "  </tbody>\n",
       "</table>\n",
       "</div>"
      ],
      "text/plain": [
       "  Rank Grade                Channel name Video Uploads Subscribers  \\\n",
       "0    1  A++                       Zee TV         82757    18752951   \n",
       "1    2  A++                     T-Series         12661    61196302   \n",
       "2    3  A++   Cocomelon - Nursery Rhymes           373    19238251   \n",
       "3    4  A++                    SET India         27323    31180559   \n",
       "4    5  A++                          WWE         36756    32852346   \n",
       "\n",
       "   Video views  \n",
       "0  20869786591  \n",
       "1  47548839843  \n",
       "2   9793305082  \n",
       "3  22675948293  \n",
       "4  26273668433  "
      ]
     },
     "execution_count": 130,
     "metadata": {},
     "output_type": "execute_result"
    }
   ],
   "source": [
    "data.head()"
   ]
  },
  {
   "cell_type": "code",
   "execution_count": 131,
   "id": "3cfd1068",
   "metadata": {},
   "outputs": [
    {
     "data": {
      "text/html": [
       "<div>\n",
       "<style scoped>\n",
       "    .dataframe tbody tr th:only-of-type {\n",
       "        vertical-align: middle;\n",
       "    }\n",
       "\n",
       "    .dataframe tbody tr th {\n",
       "        vertical-align: top;\n",
       "    }\n",
       "\n",
       "    .dataframe thead th {\n",
       "        text-align: right;\n",
       "    }\n",
       "</style>\n",
       "<table border=\"1\" class=\"dataframe\">\n",
       "  <thead>\n",
       "    <tr style=\"text-align: right;\">\n",
       "      <th></th>\n",
       "      <th>Rank</th>\n",
       "      <th>Grade</th>\n",
       "      <th>Channel name</th>\n",
       "      <th>Video Uploads</th>\n",
       "      <th>Subscribers</th>\n",
       "      <th>Video views</th>\n",
       "    </tr>\n",
       "  </thead>\n",
       "  <tbody>\n",
       "    <tr>\n",
       "      <th>4995</th>\n",
       "      <td>4,996</td>\n",
       "      <td>B+</td>\n",
       "      <td>Uras Benlioğlu</td>\n",
       "      <td>706</td>\n",
       "      <td>2072942</td>\n",
       "      <td>441202795</td>\n",
       "    </tr>\n",
       "    <tr>\n",
       "      <th>4996</th>\n",
       "      <td>4,997</td>\n",
       "      <td>B+</td>\n",
       "      <td>HI-TECH MUSIC LTD</td>\n",
       "      <td>797</td>\n",
       "      <td>1055091</td>\n",
       "      <td>377331722</td>\n",
       "    </tr>\n",
       "    <tr>\n",
       "      <th>4997</th>\n",
       "      <td>4,998</td>\n",
       "      <td>B+</td>\n",
       "      <td>Mastersaint</td>\n",
       "      <td>110</td>\n",
       "      <td>3265735</td>\n",
       "      <td>311758426</td>\n",
       "    </tr>\n",
       "    <tr>\n",
       "      <th>4998</th>\n",
       "      <td>4,999</td>\n",
       "      <td>B+</td>\n",
       "      <td>Bruce McIntosh</td>\n",
       "      <td>3475</td>\n",
       "      <td>32990</td>\n",
       "      <td>14563764</td>\n",
       "    </tr>\n",
       "    <tr>\n",
       "      <th>4999</th>\n",
       "      <td>5,000</td>\n",
       "      <td>B+</td>\n",
       "      <td>SehatAQUA</td>\n",
       "      <td>254</td>\n",
       "      <td>21172</td>\n",
       "      <td>73312511</td>\n",
       "    </tr>\n",
       "  </tbody>\n",
       "</table>\n",
       "</div>"
      ],
      "text/plain": [
       "       Rank Grade       Channel name Video Uploads Subscribers  Video views\n",
       "4995  4,996   B+      Uras Benlioğlu           706     2072942    441202795\n",
       "4996  4,997   B+   HI-TECH MUSIC LTD           797     1055091    377331722\n",
       "4997  4,998   B+         Mastersaint           110     3265735    311758426\n",
       "4998  4,999   B+      Bruce McIntosh          3475       32990     14563764\n",
       "4999  5,000   B+           SehatAQUA           254       21172     73312511"
      ]
     },
     "execution_count": 131,
     "metadata": {},
     "output_type": "execute_result"
    }
   ],
   "source": [
    "data.tail()"
   ]
  },
  {
   "cell_type": "code",
   "execution_count": 132,
   "id": "2532908c",
   "metadata": {},
   "outputs": [],
   "source": [
    "data['Rank']=data['Rank'].str.replace(',','')"
   ]
  },
  {
   "cell_type": "code",
   "execution_count": 133,
   "id": "67cc00ca",
   "metadata": {},
   "outputs": [
    {
     "data": {
      "text/html": [
       "<div>\n",
       "<style scoped>\n",
       "    .dataframe tbody tr th:only-of-type {\n",
       "        vertical-align: middle;\n",
       "    }\n",
       "\n",
       "    .dataframe tbody tr th {\n",
       "        vertical-align: top;\n",
       "    }\n",
       "\n",
       "    .dataframe thead th {\n",
       "        text-align: right;\n",
       "    }\n",
       "</style>\n",
       "<table border=\"1\" class=\"dataframe\">\n",
       "  <thead>\n",
       "    <tr style=\"text-align: right;\">\n",
       "      <th></th>\n",
       "      <th>Rank</th>\n",
       "      <th>Grade</th>\n",
       "      <th>Channel name</th>\n",
       "      <th>Video Uploads</th>\n",
       "      <th>Subscribers</th>\n",
       "      <th>Video views</th>\n",
       "    </tr>\n",
       "  </thead>\n",
       "  <tbody>\n",
       "    <tr>\n",
       "      <th>4995</th>\n",
       "      <td>4996</td>\n",
       "      <td>B+</td>\n",
       "      <td>Uras Benlioğlu</td>\n",
       "      <td>706</td>\n",
       "      <td>2072942</td>\n",
       "      <td>441202795</td>\n",
       "    </tr>\n",
       "    <tr>\n",
       "      <th>4996</th>\n",
       "      <td>4997</td>\n",
       "      <td>B+</td>\n",
       "      <td>HI-TECH MUSIC LTD</td>\n",
       "      <td>797</td>\n",
       "      <td>1055091</td>\n",
       "      <td>377331722</td>\n",
       "    </tr>\n",
       "    <tr>\n",
       "      <th>4997</th>\n",
       "      <td>4998</td>\n",
       "      <td>B+</td>\n",
       "      <td>Mastersaint</td>\n",
       "      <td>110</td>\n",
       "      <td>3265735</td>\n",
       "      <td>311758426</td>\n",
       "    </tr>\n",
       "    <tr>\n",
       "      <th>4998</th>\n",
       "      <td>4999</td>\n",
       "      <td>B+</td>\n",
       "      <td>Bruce McIntosh</td>\n",
       "      <td>3475</td>\n",
       "      <td>32990</td>\n",
       "      <td>14563764</td>\n",
       "    </tr>\n",
       "    <tr>\n",
       "      <th>4999</th>\n",
       "      <td>5000</td>\n",
       "      <td>B+</td>\n",
       "      <td>SehatAQUA</td>\n",
       "      <td>254</td>\n",
       "      <td>21172</td>\n",
       "      <td>73312511</td>\n",
       "    </tr>\n",
       "  </tbody>\n",
       "</table>\n",
       "</div>"
      ],
      "text/plain": [
       "      Rank Grade       Channel name Video Uploads Subscribers  Video views\n",
       "4995  4996   B+      Uras Benlioğlu           706     2072942    441202795\n",
       "4996  4997   B+   HI-TECH MUSIC LTD           797     1055091    377331722\n",
       "4997  4998   B+         Mastersaint           110     3265735    311758426\n",
       "4998  4999   B+      Bruce McIntosh          3475       32990     14563764\n",
       "4999  5000   B+           SehatAQUA           254       21172     73312511"
      ]
     },
     "execution_count": 133,
     "metadata": {},
     "output_type": "execute_result"
    }
   ],
   "source": [
    "data.tail()"
   ]
  },
  {
   "cell_type": "code",
   "execution_count": 134,
   "id": "a1c2cbb4",
   "metadata": {},
   "outputs": [],
   "source": [
    "#now we need to convert the data type from string to integer"
   ]
  },
  {
   "cell_type": "code",
   "execution_count": 135,
   "id": "8b0311e3",
   "metadata": {},
   "outputs": [],
   "source": [
    "data['Rank']=data['Rank'].astype('int')"
   ]
  },
  {
   "cell_type": "code",
   "execution_count": 136,
   "id": "875eb28c",
   "metadata": {},
   "outputs": [
    {
     "data": {
      "text/plain": [
       "Rank              int32\n",
       "Grade            object\n",
       "Channel name     object\n",
       "Video Uploads    object\n",
       "Subscribers      object\n",
       "Video views       int64\n",
       "dtype: object"
      ]
     },
     "execution_count": 136,
     "metadata": {},
     "output_type": "execute_result"
    }
   ],
   "source": [
    "data.dtypes"
   ]
  },
  {
   "cell_type": "code",
   "execution_count": 73,
   "id": "6c9e405c",
   "metadata": {},
   "outputs": [],
   "source": [
    "#as you can see now it is a integer data type, you can use this method to clean any type of data"
   ]
  },
  {
   "cell_type": "code",
   "execution_count": null,
   "id": "403454f4",
   "metadata": {},
   "outputs": [],
   "source": []
  },
  {
   "cell_type": "markdown",
   "id": "048be582",
   "metadata": {},
   "source": [
    "# 9. Data Cleaning [Video Uploads & Subscribers]"
   ]
  },
  {
   "cell_type": "code",
   "execution_count": 137,
   "id": "71f6b8ec",
   "metadata": {},
   "outputs": [
    {
     "data": {
      "text/html": [
       "<div>\n",
       "<style scoped>\n",
       "    .dataframe tbody tr th:only-of-type {\n",
       "        vertical-align: middle;\n",
       "    }\n",
       "\n",
       "    .dataframe tbody tr th {\n",
       "        vertical-align: top;\n",
       "    }\n",
       "\n",
       "    .dataframe thead th {\n",
       "        text-align: right;\n",
       "    }\n",
       "</style>\n",
       "<table border=\"1\" class=\"dataframe\">\n",
       "  <thead>\n",
       "    <tr style=\"text-align: right;\">\n",
       "      <th></th>\n",
       "      <th>Rank</th>\n",
       "      <th>Grade</th>\n",
       "      <th>Channel name</th>\n",
       "      <th>Video Uploads</th>\n",
       "      <th>Subscribers</th>\n",
       "      <th>Video views</th>\n",
       "    </tr>\n",
       "  </thead>\n",
       "  <tbody>\n",
       "    <tr>\n",
       "      <th>0</th>\n",
       "      <td>1</td>\n",
       "      <td>A++</td>\n",
       "      <td>Zee TV</td>\n",
       "      <td>82757</td>\n",
       "      <td>18752951</td>\n",
       "      <td>20869786591</td>\n",
       "    </tr>\n",
       "    <tr>\n",
       "      <th>1</th>\n",
       "      <td>2</td>\n",
       "      <td>A++</td>\n",
       "      <td>T-Series</td>\n",
       "      <td>12661</td>\n",
       "      <td>61196302</td>\n",
       "      <td>47548839843</td>\n",
       "    </tr>\n",
       "    <tr>\n",
       "      <th>2</th>\n",
       "      <td>3</td>\n",
       "      <td>A++</td>\n",
       "      <td>Cocomelon - Nursery Rhymes</td>\n",
       "      <td>373</td>\n",
       "      <td>19238251</td>\n",
       "      <td>9793305082</td>\n",
       "    </tr>\n",
       "    <tr>\n",
       "      <th>3</th>\n",
       "      <td>4</td>\n",
       "      <td>A++</td>\n",
       "      <td>SET India</td>\n",
       "      <td>27323</td>\n",
       "      <td>31180559</td>\n",
       "      <td>22675948293</td>\n",
       "    </tr>\n",
       "    <tr>\n",
       "      <th>4</th>\n",
       "      <td>5</td>\n",
       "      <td>A++</td>\n",
       "      <td>WWE</td>\n",
       "      <td>36756</td>\n",
       "      <td>32852346</td>\n",
       "      <td>26273668433</td>\n",
       "    </tr>\n",
       "  </tbody>\n",
       "</table>\n",
       "</div>"
      ],
      "text/plain": [
       "   Rank Grade                Channel name Video Uploads Subscribers  \\\n",
       "0     1  A++                       Zee TV         82757    18752951   \n",
       "1     2  A++                     T-Series         12661    61196302   \n",
       "2     3  A++   Cocomelon - Nursery Rhymes           373    19238251   \n",
       "3     4  A++                    SET India         27323    31180559   \n",
       "4     5  A++                          WWE         36756    32852346   \n",
       "\n",
       "   Video views  \n",
       "0  20869786591  \n",
       "1  47548839843  \n",
       "2   9793305082  \n",
       "3  22675948293  \n",
       "4  26273668433  "
      ]
     },
     "execution_count": 137,
     "metadata": {},
     "output_type": "execute_result"
    }
   ],
   "source": [
    "data.head()"
   ]
  },
  {
   "cell_type": "code",
   "execution_count": 138,
   "id": "68719359",
   "metadata": {},
   "outputs": [
    {
     "data": {
      "text/html": [
       "<div>\n",
       "<style scoped>\n",
       "    .dataframe tbody tr th:only-of-type {\n",
       "        vertical-align: middle;\n",
       "    }\n",
       "\n",
       "    .dataframe tbody tr th {\n",
       "        vertical-align: top;\n",
       "    }\n",
       "\n",
       "    .dataframe thead th {\n",
       "        text-align: right;\n",
       "    }\n",
       "</style>\n",
       "<table border=\"1\" class=\"dataframe\">\n",
       "  <thead>\n",
       "    <tr style=\"text-align: right;\">\n",
       "      <th></th>\n",
       "      <th>Rank</th>\n",
       "      <th>Grade</th>\n",
       "      <th>Channel name</th>\n",
       "      <th>Video Uploads</th>\n",
       "      <th>Subscribers</th>\n",
       "      <th>Video views</th>\n",
       "    </tr>\n",
       "  </thead>\n",
       "  <tbody>\n",
       "    <tr>\n",
       "      <th>4995</th>\n",
       "      <td>4996</td>\n",
       "      <td>B+</td>\n",
       "      <td>Uras Benlioğlu</td>\n",
       "      <td>706</td>\n",
       "      <td>2072942</td>\n",
       "      <td>441202795</td>\n",
       "    </tr>\n",
       "    <tr>\n",
       "      <th>4996</th>\n",
       "      <td>4997</td>\n",
       "      <td>B+</td>\n",
       "      <td>HI-TECH MUSIC LTD</td>\n",
       "      <td>797</td>\n",
       "      <td>1055091</td>\n",
       "      <td>377331722</td>\n",
       "    </tr>\n",
       "    <tr>\n",
       "      <th>4997</th>\n",
       "      <td>4998</td>\n",
       "      <td>B+</td>\n",
       "      <td>Mastersaint</td>\n",
       "      <td>110</td>\n",
       "      <td>3265735</td>\n",
       "      <td>311758426</td>\n",
       "    </tr>\n",
       "    <tr>\n",
       "      <th>4998</th>\n",
       "      <td>4999</td>\n",
       "      <td>B+</td>\n",
       "      <td>Bruce McIntosh</td>\n",
       "      <td>3475</td>\n",
       "      <td>32990</td>\n",
       "      <td>14563764</td>\n",
       "    </tr>\n",
       "    <tr>\n",
       "      <th>4999</th>\n",
       "      <td>5000</td>\n",
       "      <td>B+</td>\n",
       "      <td>SehatAQUA</td>\n",
       "      <td>254</td>\n",
       "      <td>21172</td>\n",
       "      <td>73312511</td>\n",
       "    </tr>\n",
       "  </tbody>\n",
       "</table>\n",
       "</div>"
      ],
      "text/plain": [
       "      Rank Grade       Channel name Video Uploads Subscribers  Video views\n",
       "4995  4996   B+      Uras Benlioğlu           706     2072942    441202795\n",
       "4996  4997   B+   HI-TECH MUSIC LTD           797     1055091    377331722\n",
       "4997  4998   B+         Mastersaint           110     3265735    311758426\n",
       "4998  4999   B+      Bruce McIntosh          3475       32990     14563764\n",
       "4999  5000   B+           SehatAQUA           254       21172     73312511"
      ]
     },
     "execution_count": 138,
     "metadata": {},
     "output_type": "execute_result"
    }
   ],
   "source": [
    "data.tail()"
   ]
  },
  {
   "cell_type": "code",
   "execution_count": 139,
   "id": "eb1276c7",
   "metadata": {},
   "outputs": [
    {
     "data": {
      "text/plain": [
       "Rank              int32\n",
       "Grade            object\n",
       "Channel name     object\n",
       "Video Uploads    object\n",
       "Subscribers      object\n",
       "Video views       int64\n",
       "dtype: object"
      ]
     },
     "execution_count": 139,
     "metadata": {},
     "output_type": "execute_result"
    }
   ],
   "source": [
    "data.dtypes"
   ]
  },
  {
   "cell_type": "code",
   "execution_count": 140,
   "id": "b2cdd16a",
   "metadata": {},
   "outputs": [],
   "source": [
    "#as you can see that both the columns, video uploads & subscribers gave object datatype, but the data is into numerical format, so we just need to conevrt the datatype of that column"
   ]
  },
  {
   "cell_type": "code",
   "execution_count": 141,
   "id": "a73bad61",
   "metadata": {},
   "outputs": [],
   "source": [
    "data['Video Uploads']=data['Video Uploads'].astype('int')"
   ]
  },
  {
   "cell_type": "code",
   "execution_count": 142,
   "id": "66646cf9",
   "metadata": {},
   "outputs": [
    {
     "data": {
      "text/plain": [
       "Rank              int32\n",
       "Grade            object\n",
       "Channel name     object\n",
       "Video Uploads     int32\n",
       "Subscribers      object\n",
       "Video views       int64\n",
       "dtype: object"
      ]
     },
     "execution_count": 142,
     "metadata": {},
     "output_type": "execute_result"
    }
   ],
   "source": [
    "data.dtypes"
   ]
  },
  {
   "cell_type": "code",
   "execution_count": 143,
   "id": "13abda26",
   "metadata": {},
   "outputs": [],
   "source": [
    "data['Subscribers']=data['Subscribers'].astype('int')"
   ]
  },
  {
   "cell_type": "code",
   "execution_count": 144,
   "id": "493a6a9a",
   "metadata": {},
   "outputs": [
    {
     "data": {
      "text/plain": [
       "Rank              int32\n",
       "Grade            object\n",
       "Channel name     object\n",
       "Video Uploads     int32\n",
       "Subscribers       int32\n",
       "Video views       int64\n",
       "dtype: object"
      ]
     },
     "execution_count": 144,
     "metadata": {},
     "output_type": "execute_result"
    }
   ],
   "source": [
    "data.dtypes"
   ]
  },
  {
   "cell_type": "code",
   "execution_count": 85,
   "id": "e3b2aa29",
   "metadata": {},
   "outputs": [],
   "source": [
    "#as you can see that both the columns are now of integer datatype"
   ]
  },
  {
   "cell_type": "code",
   "execution_count": null,
   "id": "9efd99c1",
   "metadata": {},
   "outputs": [],
   "source": []
  },
  {
   "cell_type": "markdown",
   "id": "2b2b9bb8",
   "metadata": {},
   "source": [
    "# 10. Data Cleaning [Grade Column]"
   ]
  },
  {
   "cell_type": "code",
   "execution_count": 145,
   "id": "2884deb3",
   "metadata": {},
   "outputs": [
    {
     "data": {
      "text/html": [
       "<div>\n",
       "<style scoped>\n",
       "    .dataframe tbody tr th:only-of-type {\n",
       "        vertical-align: middle;\n",
       "    }\n",
       "\n",
       "    .dataframe tbody tr th {\n",
       "        vertical-align: top;\n",
       "    }\n",
       "\n",
       "    .dataframe thead th {\n",
       "        text-align: right;\n",
       "    }\n",
       "</style>\n",
       "<table border=\"1\" class=\"dataframe\">\n",
       "  <thead>\n",
       "    <tr style=\"text-align: right;\">\n",
       "      <th></th>\n",
       "      <th>Rank</th>\n",
       "      <th>Grade</th>\n",
       "      <th>Channel name</th>\n",
       "      <th>Video Uploads</th>\n",
       "      <th>Subscribers</th>\n",
       "      <th>Video views</th>\n",
       "    </tr>\n",
       "  </thead>\n",
       "  <tbody>\n",
       "    <tr>\n",
       "      <th>0</th>\n",
       "      <td>1</td>\n",
       "      <td>A++</td>\n",
       "      <td>Zee TV</td>\n",
       "      <td>82757</td>\n",
       "      <td>18752951</td>\n",
       "      <td>20869786591</td>\n",
       "    </tr>\n",
       "    <tr>\n",
       "      <th>1</th>\n",
       "      <td>2</td>\n",
       "      <td>A++</td>\n",
       "      <td>T-Series</td>\n",
       "      <td>12661</td>\n",
       "      <td>61196302</td>\n",
       "      <td>47548839843</td>\n",
       "    </tr>\n",
       "    <tr>\n",
       "      <th>2</th>\n",
       "      <td>3</td>\n",
       "      <td>A++</td>\n",
       "      <td>Cocomelon - Nursery Rhymes</td>\n",
       "      <td>373</td>\n",
       "      <td>19238251</td>\n",
       "      <td>9793305082</td>\n",
       "    </tr>\n",
       "    <tr>\n",
       "      <th>3</th>\n",
       "      <td>4</td>\n",
       "      <td>A++</td>\n",
       "      <td>SET India</td>\n",
       "      <td>27323</td>\n",
       "      <td>31180559</td>\n",
       "      <td>22675948293</td>\n",
       "    </tr>\n",
       "    <tr>\n",
       "      <th>4</th>\n",
       "      <td>5</td>\n",
       "      <td>A++</td>\n",
       "      <td>WWE</td>\n",
       "      <td>36756</td>\n",
       "      <td>32852346</td>\n",
       "      <td>26273668433</td>\n",
       "    </tr>\n",
       "  </tbody>\n",
       "</table>\n",
       "</div>"
      ],
      "text/plain": [
       "   Rank Grade                Channel name  Video Uploads  Subscribers  \\\n",
       "0     1  A++                       Zee TV          82757     18752951   \n",
       "1     2  A++                     T-Series          12661     61196302   \n",
       "2     3  A++   Cocomelon - Nursery Rhymes            373     19238251   \n",
       "3     4  A++                    SET India          27323     31180559   \n",
       "4     5  A++                          WWE          36756     32852346   \n",
       "\n",
       "   Video views  \n",
       "0  20869786591  \n",
       "1  47548839843  \n",
       "2   9793305082  \n",
       "3  22675948293  \n",
       "4  26273668433  "
      ]
     },
     "execution_count": 145,
     "metadata": {},
     "output_type": "execute_result"
    }
   ],
   "source": [
    "data.head()"
   ]
  },
  {
   "cell_type": "code",
   "execution_count": 146,
   "id": "207f6fa9",
   "metadata": {},
   "outputs": [
    {
     "data": {
      "text/html": [
       "<div>\n",
       "<style scoped>\n",
       "    .dataframe tbody tr th:only-of-type {\n",
       "        vertical-align: middle;\n",
       "    }\n",
       "\n",
       "    .dataframe tbody tr th {\n",
       "        vertical-align: top;\n",
       "    }\n",
       "\n",
       "    .dataframe thead th {\n",
       "        text-align: right;\n",
       "    }\n",
       "</style>\n",
       "<table border=\"1\" class=\"dataframe\">\n",
       "  <thead>\n",
       "    <tr style=\"text-align: right;\">\n",
       "      <th></th>\n",
       "      <th>Rank</th>\n",
       "      <th>Grade</th>\n",
       "      <th>Channel name</th>\n",
       "      <th>Video Uploads</th>\n",
       "      <th>Subscribers</th>\n",
       "      <th>Video views</th>\n",
       "    </tr>\n",
       "  </thead>\n",
       "  <tbody>\n",
       "    <tr>\n",
       "      <th>4995</th>\n",
       "      <td>4996</td>\n",
       "      <td>B+</td>\n",
       "      <td>Uras Benlioğlu</td>\n",
       "      <td>706</td>\n",
       "      <td>2072942</td>\n",
       "      <td>441202795</td>\n",
       "    </tr>\n",
       "    <tr>\n",
       "      <th>4996</th>\n",
       "      <td>4997</td>\n",
       "      <td>B+</td>\n",
       "      <td>HI-TECH MUSIC LTD</td>\n",
       "      <td>797</td>\n",
       "      <td>1055091</td>\n",
       "      <td>377331722</td>\n",
       "    </tr>\n",
       "    <tr>\n",
       "      <th>4997</th>\n",
       "      <td>4998</td>\n",
       "      <td>B+</td>\n",
       "      <td>Mastersaint</td>\n",
       "      <td>110</td>\n",
       "      <td>3265735</td>\n",
       "      <td>311758426</td>\n",
       "    </tr>\n",
       "    <tr>\n",
       "      <th>4998</th>\n",
       "      <td>4999</td>\n",
       "      <td>B+</td>\n",
       "      <td>Bruce McIntosh</td>\n",
       "      <td>3475</td>\n",
       "      <td>32990</td>\n",
       "      <td>14563764</td>\n",
       "    </tr>\n",
       "    <tr>\n",
       "      <th>4999</th>\n",
       "      <td>5000</td>\n",
       "      <td>B+</td>\n",
       "      <td>SehatAQUA</td>\n",
       "      <td>254</td>\n",
       "      <td>21172</td>\n",
       "      <td>73312511</td>\n",
       "    </tr>\n",
       "  </tbody>\n",
       "</table>\n",
       "</div>"
      ],
      "text/plain": [
       "      Rank Grade       Channel name  Video Uploads  Subscribers  Video views\n",
       "4995  4996   B+      Uras Benlioğlu            706      2072942    441202795\n",
       "4996  4997   B+   HI-TECH MUSIC LTD            797      1055091    377331722\n",
       "4997  4998   B+         Mastersaint            110      3265735    311758426\n",
       "4998  4999   B+      Bruce McIntosh           3475        32990     14563764\n",
       "4999  5000   B+           SehatAQUA            254        21172     73312511"
      ]
     },
     "execution_count": 146,
     "metadata": {},
     "output_type": "execute_result"
    }
   ],
   "source": [
    "data.tail()"
   ]
  },
  {
   "cell_type": "code",
   "execution_count": 147,
   "id": "553aa252",
   "metadata": {},
   "outputs": [
    {
     "data": {
      "text/plain": [
       "array(['A++ ', 'A+ ', 'A ', 'A- ', 'B+ '], dtype=object)"
      ]
     },
     "execution_count": 147,
     "metadata": {},
     "output_type": "execute_result"
    }
   ],
   "source": [
    "data['Grade'].unique() # as you can see that this are the values avialble in Grade column"
   ]
  },
  {
   "cell_type": "code",
   "execution_count": 148,
   "id": "8cd46611",
   "metadata": {},
   "outputs": [],
   "source": [
    "data['Grade']=data['Grade'].map({'A++ ':5,'A+ ':4,'A ':3,'A- ':2,'B+ ':1,}) #we are using pandas map method & passing the values as dictonary in the map method\n",
    "#it means 'A++':5, grade of A++ is grade 5 & so on..."
   ]
  },
  {
   "cell_type": "code",
   "execution_count": 149,
   "id": "6969b096",
   "metadata": {},
   "outputs": [
    {
     "data": {
      "text/html": [
       "<div>\n",
       "<style scoped>\n",
       "    .dataframe tbody tr th:only-of-type {\n",
       "        vertical-align: middle;\n",
       "    }\n",
       "\n",
       "    .dataframe tbody tr th {\n",
       "        vertical-align: top;\n",
       "    }\n",
       "\n",
       "    .dataframe thead th {\n",
       "        text-align: right;\n",
       "    }\n",
       "</style>\n",
       "<table border=\"1\" class=\"dataframe\">\n",
       "  <thead>\n",
       "    <tr style=\"text-align: right;\">\n",
       "      <th></th>\n",
       "      <th>Rank</th>\n",
       "      <th>Grade</th>\n",
       "      <th>Channel name</th>\n",
       "      <th>Video Uploads</th>\n",
       "      <th>Subscribers</th>\n",
       "      <th>Video views</th>\n",
       "    </tr>\n",
       "  </thead>\n",
       "  <tbody>\n",
       "    <tr>\n",
       "      <th>0</th>\n",
       "      <td>1</td>\n",
       "      <td>5</td>\n",
       "      <td>Zee TV</td>\n",
       "      <td>82757</td>\n",
       "      <td>18752951</td>\n",
       "      <td>20869786591</td>\n",
       "    </tr>\n",
       "    <tr>\n",
       "      <th>1</th>\n",
       "      <td>2</td>\n",
       "      <td>5</td>\n",
       "      <td>T-Series</td>\n",
       "      <td>12661</td>\n",
       "      <td>61196302</td>\n",
       "      <td>47548839843</td>\n",
       "    </tr>\n",
       "    <tr>\n",
       "      <th>2</th>\n",
       "      <td>3</td>\n",
       "      <td>5</td>\n",
       "      <td>Cocomelon - Nursery Rhymes</td>\n",
       "      <td>373</td>\n",
       "      <td>19238251</td>\n",
       "      <td>9793305082</td>\n",
       "    </tr>\n",
       "    <tr>\n",
       "      <th>3</th>\n",
       "      <td>4</td>\n",
       "      <td>5</td>\n",
       "      <td>SET India</td>\n",
       "      <td>27323</td>\n",
       "      <td>31180559</td>\n",
       "      <td>22675948293</td>\n",
       "    </tr>\n",
       "    <tr>\n",
       "      <th>4</th>\n",
       "      <td>5</td>\n",
       "      <td>5</td>\n",
       "      <td>WWE</td>\n",
       "      <td>36756</td>\n",
       "      <td>32852346</td>\n",
       "      <td>26273668433</td>\n",
       "    </tr>\n",
       "  </tbody>\n",
       "</table>\n",
       "</div>"
      ],
      "text/plain": [
       "   Rank  Grade                Channel name  Video Uploads  Subscribers  \\\n",
       "0     1      5                      Zee TV          82757     18752951   \n",
       "1     2      5                    T-Series          12661     61196302   \n",
       "2     3      5  Cocomelon - Nursery Rhymes            373     19238251   \n",
       "3     4      5                   SET India          27323     31180559   \n",
       "4     5      5                         WWE          36756     32852346   \n",
       "\n",
       "   Video views  \n",
       "0  20869786591  \n",
       "1  47548839843  \n",
       "2   9793305082  \n",
       "3  22675948293  \n",
       "4  26273668433  "
      ]
     },
     "execution_count": 149,
     "metadata": {},
     "output_type": "execute_result"
    }
   ],
   "source": [
    "data.head()"
   ]
  },
  {
   "cell_type": "code",
   "execution_count": 150,
   "id": "807bf374",
   "metadata": {},
   "outputs": [
    {
     "data": {
      "text/plain": [
       "Rank              int32\n",
       "Grade             int64\n",
       "Channel name     object\n",
       "Video Uploads     int32\n",
       "Subscribers       int32\n",
       "Video views       int64\n",
       "dtype: object"
      ]
     },
     "execution_count": 150,
     "metadata": {},
     "output_type": "execute_result"
    }
   ],
   "source": [
    "data.dtypes"
   ]
  },
  {
   "cell_type": "code",
   "execution_count": 151,
   "id": "52832d7b",
   "metadata": {},
   "outputs": [],
   "source": [
    "#as you can see that the data type has been changed"
   ]
  },
  {
   "cell_type": "markdown",
   "id": "40461847",
   "metadata": {},
   "source": [
    "# 11. Find average views for each channel"
   ]
  },
  {
   "cell_type": "code",
   "execution_count": 152,
   "id": "e0d1563e",
   "metadata": {},
   "outputs": [
    {
     "data": {
      "text/plain": [
       "Index(['Rank', 'Grade', 'Channel name', 'Video Uploads', 'Subscribers',\n",
       "       'Video views'],\n",
       "      dtype='object')"
      ]
     },
     "execution_count": 152,
     "metadata": {},
     "output_type": "execute_result"
    }
   ],
   "source": [
    "data.columns"
   ]
  },
  {
   "cell_type": "code",
   "execution_count": 153,
   "id": "b22730a9",
   "metadata": {},
   "outputs": [],
   "source": [
    "data['avg_views']=data['Video views']/data['Video Uploads']"
   ]
  },
  {
   "cell_type": "code",
   "execution_count": 156,
   "id": "b96c767c",
   "metadata": {},
   "outputs": [
    {
     "data": {
      "text/html": [
       "<div>\n",
       "<style scoped>\n",
       "    .dataframe tbody tr th:only-of-type {\n",
       "        vertical-align: middle;\n",
       "    }\n",
       "\n",
       "    .dataframe tbody tr th {\n",
       "        vertical-align: top;\n",
       "    }\n",
       "\n",
       "    .dataframe thead th {\n",
       "        text-align: right;\n",
       "    }\n",
       "</style>\n",
       "<table border=\"1\" class=\"dataframe\">\n",
       "  <thead>\n",
       "    <tr style=\"text-align: right;\">\n",
       "      <th></th>\n",
       "      <th>Rank</th>\n",
       "      <th>Grade</th>\n",
       "      <th>Channel name</th>\n",
       "      <th>Video Uploads</th>\n",
       "      <th>Subscribers</th>\n",
       "      <th>Video views</th>\n",
       "      <th>avg_views</th>\n",
       "    </tr>\n",
       "  </thead>\n",
       "  <tbody>\n",
       "    <tr>\n",
       "      <th>0</th>\n",
       "      <td>1</td>\n",
       "      <td>5</td>\n",
       "      <td>Zee TV</td>\n",
       "      <td>82757</td>\n",
       "      <td>18752951</td>\n",
       "      <td>20869786591</td>\n",
       "      <td>252181.53</td>\n",
       "    </tr>\n",
       "    <tr>\n",
       "      <th>1</th>\n",
       "      <td>2</td>\n",
       "      <td>5</td>\n",
       "      <td>T-Series</td>\n",
       "      <td>12661</td>\n",
       "      <td>61196302</td>\n",
       "      <td>47548839843</td>\n",
       "      <td>3755535.89</td>\n",
       "    </tr>\n",
       "    <tr>\n",
       "      <th>2</th>\n",
       "      <td>3</td>\n",
       "      <td>5</td>\n",
       "      <td>Cocomelon - Nursery Rhymes</td>\n",
       "      <td>373</td>\n",
       "      <td>19238251</td>\n",
       "      <td>9793305082</td>\n",
       "      <td>26255509.60</td>\n",
       "    </tr>\n",
       "    <tr>\n",
       "      <th>3</th>\n",
       "      <td>4</td>\n",
       "      <td>5</td>\n",
       "      <td>SET India</td>\n",
       "      <td>27323</td>\n",
       "      <td>31180559</td>\n",
       "      <td>22675948293</td>\n",
       "      <td>829921.62</td>\n",
       "    </tr>\n",
       "    <tr>\n",
       "      <th>4</th>\n",
       "      <td>5</td>\n",
       "      <td>5</td>\n",
       "      <td>WWE</td>\n",
       "      <td>36756</td>\n",
       "      <td>32852346</td>\n",
       "      <td>26273668433</td>\n",
       "      <td>714813.05</td>\n",
       "    </tr>\n",
       "  </tbody>\n",
       "</table>\n",
       "</div>"
      ],
      "text/plain": [
       "   Rank  Grade                Channel name  Video Uploads  Subscribers  \\\n",
       "0     1      5                      Zee TV          82757     18752951   \n",
       "1     2      5                    T-Series          12661     61196302   \n",
       "2     3      5  Cocomelon - Nursery Rhymes            373     19238251   \n",
       "3     4      5                   SET India          27323     31180559   \n",
       "4     5      5                         WWE          36756     32852346   \n",
       "\n",
       "   Video views   avg_views  \n",
       "0  20869786591   252181.53  \n",
       "1  47548839843  3755535.89  \n",
       "2   9793305082 26255509.60  \n",
       "3  22675948293   829921.62  \n",
       "4  26273668433   714813.05  "
      ]
     },
     "execution_count": 156,
     "metadata": {},
     "output_type": "execute_result"
    }
   ],
   "source": [
    "data.head() #as you can see that new column had been created with name avg views"
   ]
  },
  {
   "cell_type": "code",
   "execution_count": null,
   "id": "c4326b3b",
   "metadata": {},
   "outputs": [],
   "source": []
  },
  {
   "cell_type": "markdown",
   "id": "746b1183",
   "metadata": {},
   "source": [
    "# 12. Find out top 5 channels with maximum number of video upload"
   ]
  },
  {
   "cell_type": "code",
   "execution_count": 157,
   "id": "e778102a",
   "metadata": {},
   "outputs": [
    {
     "data": {
      "text/plain": [
       "Index(['Rank', 'Grade', 'Channel name', 'Video Uploads', 'Subscribers',\n",
       "       'Video views', 'avg_views'],\n",
       "      dtype='object')"
      ]
     },
     "execution_count": 157,
     "metadata": {},
     "output_type": "execute_result"
    }
   ],
   "source": [
    "data.columns"
   ]
  },
  {
   "cell_type": "code",
   "execution_count": 162,
   "id": "47e2a685",
   "metadata": {},
   "outputs": [
    {
     "data": {
      "text/html": [
       "<div>\n",
       "<style scoped>\n",
       "    .dataframe tbody tr th:only-of-type {\n",
       "        vertical-align: middle;\n",
       "    }\n",
       "\n",
       "    .dataframe tbody tr th {\n",
       "        vertical-align: top;\n",
       "    }\n",
       "\n",
       "    .dataframe thead th {\n",
       "        text-align: right;\n",
       "    }\n",
       "</style>\n",
       "<table border=\"1\" class=\"dataframe\">\n",
       "  <thead>\n",
       "    <tr style=\"text-align: right;\">\n",
       "      <th></th>\n",
       "      <th>Rank</th>\n",
       "      <th>Grade</th>\n",
       "      <th>Channel name</th>\n",
       "      <th>Video Uploads</th>\n",
       "      <th>Subscribers</th>\n",
       "      <th>Video views</th>\n",
       "      <th>avg_views</th>\n",
       "    </tr>\n",
       "  </thead>\n",
       "  <tbody>\n",
       "    <tr>\n",
       "      <th>3453</th>\n",
       "      <td>3454</td>\n",
       "      <td>1</td>\n",
       "      <td>AP Archive</td>\n",
       "      <td>422326</td>\n",
       "      <td>746325</td>\n",
       "      <td>548619569</td>\n",
       "      <td>1299.04</td>\n",
       "    </tr>\n",
       "    <tr>\n",
       "      <th>1149</th>\n",
       "      <td>1150</td>\n",
       "      <td>2</td>\n",
       "      <td>YTN NEWS</td>\n",
       "      <td>355996</td>\n",
       "      <td>820108</td>\n",
       "      <td>1640347646</td>\n",
       "      <td>4607.77</td>\n",
       "    </tr>\n",
       "    <tr>\n",
       "      <th>2223</th>\n",
       "      <td>2224</td>\n",
       "      <td>1</td>\n",
       "      <td>SBS Drama</td>\n",
       "      <td>335521</td>\n",
       "      <td>1418619</td>\n",
       "      <td>1565758044</td>\n",
       "      <td>4666.65</td>\n",
       "    </tr>\n",
       "    <tr>\n",
       "      <th>323</th>\n",
       "      <td>324</td>\n",
       "      <td>3</td>\n",
       "      <td>GMA News</td>\n",
       "      <td>269065</td>\n",
       "      <td>2599175</td>\n",
       "      <td>2786949164</td>\n",
       "      <td>10357.90</td>\n",
       "    </tr>\n",
       "    <tr>\n",
       "      <th>2956</th>\n",
       "      <td>2957</td>\n",
       "      <td>1</td>\n",
       "      <td>MLB</td>\n",
       "      <td>267649</td>\n",
       "      <td>1434206</td>\n",
       "      <td>1329206392</td>\n",
       "      <td>4966.23</td>\n",
       "    </tr>\n",
       "  </tbody>\n",
       "</table>\n",
       "</div>"
      ],
      "text/plain": [
       "      Rank  Grade Channel name  Video Uploads  Subscribers  Video views  \\\n",
       "3453  3454      1   AP Archive         422326       746325    548619569   \n",
       "1149  1150      2     YTN NEWS         355996       820108   1640347646   \n",
       "2223  2224      1    SBS Drama         335521      1418619   1565758044   \n",
       "323    324      3     GMA News         269065      2599175   2786949164   \n",
       "2956  2957      1          MLB         267649      1434206   1329206392   \n",
       "\n",
       "      avg_views  \n",
       "3453    1299.04  \n",
       "1149    4607.77  \n",
       "2223    4666.65  \n",
       "323    10357.90  \n",
       "2956    4966.23  "
      ]
     },
     "execution_count": 162,
     "metadata": {},
     "output_type": "execute_result"
    }
   ],
   "source": [
    "data.sort_values(by='Video Uploads',ascending=False).head()"
   ]
  },
  {
   "cell_type": "code",
   "execution_count": 164,
   "id": "297661ac",
   "metadata": {},
   "outputs": [],
   "source": [
    "#here are the top 5 channels with maxmimum number of video uploads"
   ]
  },
  {
   "cell_type": "code",
   "execution_count": null,
   "id": "6fdc1c9a",
   "metadata": {},
   "outputs": [],
   "source": []
  },
  {
   "cell_type": "code",
   "execution_count": null,
   "id": "9ee69300",
   "metadata": {},
   "outputs": [],
   "source": []
  },
  {
   "cell_type": "markdown",
   "id": "d98782e8",
   "metadata": {},
   "source": [
    "# 13. Find correlation matrix"
   ]
  },
  {
   "cell_type": "code",
   "execution_count": 166,
   "id": "a17239e8",
   "metadata": {},
   "outputs": [
    {
     "name": "stderr",
     "output_type": "stream",
     "text": [
      "C:\\Users\\fv3\\AppData\\Local\\Temp\\ipykernel_20272\\1857509885.py:1: FutureWarning: The default value of numeric_only in DataFrame.corr is deprecated. In a future version, it will default to False. Select only valid columns or specify the value of numeric_only to silence this warning.\n",
      "  data.corr() #from this table we can see that subscribers & video views are highly co related\n"
     ]
    },
    {
     "data": {
      "text/html": [
       "<div>\n",
       "<style scoped>\n",
       "    .dataframe tbody tr th:only-of-type {\n",
       "        vertical-align: middle;\n",
       "    }\n",
       "\n",
       "    .dataframe tbody tr th {\n",
       "        vertical-align: top;\n",
       "    }\n",
       "\n",
       "    .dataframe thead th {\n",
       "        text-align: right;\n",
       "    }\n",
       "</style>\n",
       "<table border=\"1\" class=\"dataframe\">\n",
       "  <thead>\n",
       "    <tr style=\"text-align: right;\">\n",
       "      <th></th>\n",
       "      <th>Rank</th>\n",
       "      <th>Grade</th>\n",
       "      <th>Video Uploads</th>\n",
       "      <th>Subscribers</th>\n",
       "      <th>Video views</th>\n",
       "      <th>avg_views</th>\n",
       "    </tr>\n",
       "  </thead>\n",
       "  <tbody>\n",
       "    <tr>\n",
       "      <th>Rank</th>\n",
       "      <td>1.00</td>\n",
       "      <td>-0.87</td>\n",
       "      <td>-0.07</td>\n",
       "      <td>-0.38</td>\n",
       "      <td>-0.40</td>\n",
       "      <td>-0.15</td>\n",
       "    </tr>\n",
       "    <tr>\n",
       "      <th>Grade</th>\n",
       "      <td>-0.87</td>\n",
       "      <td>1.00</td>\n",
       "      <td>0.09</td>\n",
       "      <td>0.43</td>\n",
       "      <td>0.48</td>\n",
       "      <td>0.16</td>\n",
       "    </tr>\n",
       "    <tr>\n",
       "      <th>Video Uploads</th>\n",
       "      <td>-0.07</td>\n",
       "      <td>0.09</td>\n",
       "      <td>1.00</td>\n",
       "      <td>0.01</td>\n",
       "      <td>0.09</td>\n",
       "      <td>-0.06</td>\n",
       "    </tr>\n",
       "    <tr>\n",
       "      <th>Subscribers</th>\n",
       "      <td>-0.38</td>\n",
       "      <td>0.43</td>\n",
       "      <td>0.01</td>\n",
       "      <td>1.00</td>\n",
       "      <td>0.79</td>\n",
       "      <td>0.29</td>\n",
       "    </tr>\n",
       "    <tr>\n",
       "      <th>Video views</th>\n",
       "      <td>-0.40</td>\n",
       "      <td>0.48</td>\n",
       "      <td>0.09</td>\n",
       "      <td>0.79</td>\n",
       "      <td>1.00</td>\n",
       "      <td>0.29</td>\n",
       "    </tr>\n",
       "    <tr>\n",
       "      <th>avg_views</th>\n",
       "      <td>-0.15</td>\n",
       "      <td>0.16</td>\n",
       "      <td>-0.06</td>\n",
       "      <td>0.29</td>\n",
       "      <td>0.29</td>\n",
       "      <td>1.00</td>\n",
       "    </tr>\n",
       "  </tbody>\n",
       "</table>\n",
       "</div>"
      ],
      "text/plain": [
       "               Rank  Grade  Video Uploads  Subscribers  Video views  avg_views\n",
       "Rank           1.00  -0.87          -0.07        -0.38        -0.40      -0.15\n",
       "Grade         -0.87   1.00           0.09         0.43         0.48       0.16\n",
       "Video Uploads -0.07   0.09           1.00         0.01         0.09      -0.06\n",
       "Subscribers   -0.38   0.43           0.01         1.00         0.79       0.29\n",
       "Video views   -0.40   0.48           0.09         0.79         1.00       0.29\n",
       "avg_views     -0.15   0.16          -0.06         0.29         0.29       1.00"
      ]
     },
     "execution_count": 166,
     "metadata": {},
     "output_type": "execute_result"
    }
   ],
   "source": [
    "data.corr() #from this table we can see that subscribers & video views are highly co related"
   ]
  },
  {
   "cell_type": "code",
   "execution_count": null,
   "id": "38e971a4",
   "metadata": {},
   "outputs": [],
   "source": []
  },
  {
   "cell_type": "markdown",
   "id": "fb8f0e63",
   "metadata": {},
   "source": [
    "# 14. Which Grade has a maxium number of video uploads ?"
   ]
  },
  {
   "cell_type": "code",
   "execution_count": 167,
   "id": "3d81dd72",
   "metadata": {},
   "outputs": [
    {
     "data": {
      "text/plain": [
       "Index(['Rank', 'Grade', 'Channel name', 'Video Uploads', 'Subscribers',\n",
       "       'Video views', 'avg_views'],\n",
       "      dtype='object')"
      ]
     },
     "execution_count": 167,
     "metadata": {},
     "output_type": "execute_result"
    }
   ],
   "source": [
    "data.columns"
   ]
  },
  {
   "cell_type": "code",
   "execution_count": 168,
   "id": "fffa6eee",
   "metadata": {},
   "outputs": [
    {
     "data": {
      "text/plain": [
       "<Axes: xlabel='Grade', ylabel='Video Uploads'>"
      ]
     },
     "execution_count": 168,
     "metadata": {},
     "output_type": "execute_result"
    },
    {
     "data": {
      "image/png": "[encoded data removed]",
      "text/plain": [
       "<Figure size 640x480 with 1 Axes>"
      ]
     },
     "metadata": {},
     "output_type": "display_data"
    }
   ],
   "source": [
    "sns.barplot(x='Grade',y='Video Uploads',data=data)"
   ]
  },
  {
   "cell_type": "code",
   "execution_count": 170,
   "id": "e7d08004",
   "metadata": {},
   "outputs": [],
   "source": [
    "# as we can see that Grade 5/A++ has the highest number of video uploads "
   ]
  },
  {
   "cell_type": "code",
   "execution_count": null,
   "id": "1552ee0e",
   "metadata": {},
   "outputs": [],
   "source": []
  },
  {
   "cell_type": "markdown",
   "id": "94675329",
   "metadata": {},
   "source": [
    "# 15. Which Grade has the highest average views ?"
   ]
  },
  {
   "cell_type": "code",
   "execution_count": 171,
   "id": "35c7060d",
   "metadata": {},
   "outputs": [
    {
     "data": {
      "text/plain": [
       "Index(['Rank', 'Grade', 'Channel name', 'Video Uploads', 'Subscribers',\n",
       "       'Video views', 'avg_views'],\n",
       "      dtype='object')"
      ]
     },
     "execution_count": 171,
     "metadata": {},
     "output_type": "execute_result"
    }
   ],
   "source": [
    "data.columns"
   ]
  },
  {
   "cell_type": "code",
   "execution_count": 172,
   "id": "c046a632",
   "metadata": {},
   "outputs": [
    {
     "data": {
      "text/plain": [
       "<Axes: xlabel='Grade', ylabel='avg_views'>"
      ]
     },
     "execution_count": 172,
     "metadata": {},
     "output_type": "execute_result"
    },
    {
     "data": {
      "image/png": "[encoded data removed]",
      "text/plain": [
       "<Figure size 640x480 with 1 Axes>"
      ]
     },
     "metadata": {},
     "output_type": "display_data"
    }
   ],
   "source": [
    "sns.barplot(x='Grade',y='avg_views',data=data)"
   ]
  },
  {
   "cell_type": "code",
   "execution_count": 173,
   "id": "65c7a8c6",
   "metadata": {},
   "outputs": [],
   "source": [
    "#as we can see that grade 4 has the highest  average views"
   ]
  },
  {
   "cell_type": "markdown",
   "id": "065ae35c",
   "metadata": {},
   "source": [
    "# 16. Which Grade has the highest number of subscribers ?"
   ]
  },
  {
   "cell_type": "code",
   "execution_count": 174,
   "id": "af89fcf2",
   "metadata": {},
   "outputs": [
    {
     "data": {
      "text/plain": [
       "Index(['Rank', 'Grade', 'Channel name', 'Video Uploads', 'Subscribers',\n",
       "       'Video views', 'avg_views'],\n",
       "      dtype='object')"
      ]
     },
     "execution_count": 174,
     "metadata": {},
     "output_type": "execute_result"
    }
   ],
   "source": [
    "data.columns"
   ]
  },
  {
   "cell_type": "code",
   "execution_count": 175,
   "id": "d352b16a",
   "metadata": {},
   "outputs": [
    {
     "data": {
      "text/plain": [
       "<Axes: xlabel='Grade', ylabel='Subscribers'>"
      ]
     },
     "execution_count": 175,
     "metadata": {},
     "output_type": "execute_result"
    },
    {
     "data": {
      "image/png": "[encoded data removed]",
      "text/plain": [
       "<Figure size 640x480 with 1 Axes>"
      ]
     },
     "metadata": {},
     "output_type": "display_data"
    }
   ],
   "source": [
    "sns.barplot(x='Grade',y='Subscribers',data=data)"
   ]
  },
  {
   "cell_type": "code",
   "execution_count": 176,
   "id": "394f4b76",
   "metadata": {},
   "outputs": [],
   "source": [
    "#as we can see that channel with Grade 5 have the highest number of subsrcibers"
   ]
  },
  {
   "cell_type": "markdown",
   "id": "77f8e138",
   "metadata": {},
   "source": [
    "# 17. Which Grade has the highest video views"
   ]
  },
  {
   "cell_type": "code",
   "execution_count": 177,
   "id": "2c524d61",
   "metadata": {},
   "outputs": [
    {
     "data": {
      "text/plain": [
       "Index(['Rank', 'Grade', 'Channel name', 'Video Uploads', 'Subscribers',\n",
       "       'Video views', 'avg_views'],\n",
       "      dtype='object')"
      ]
     },
     "execution_count": 177,
     "metadata": {},
     "output_type": "execute_result"
    }
   ],
   "source": [
    "data.columns"
   ]
  },
  {
   "cell_type": "code",
   "execution_count": 178,
   "id": "246b9206",
   "metadata": {},
   "outputs": [
    {
     "name": "stderr",
     "output_type": "stream",
     "text": [
      "C:\\Users\\fv3\\AppData\\Local\\Temp\\ipykernel_20272\\3670195322.py:1: FutureWarning: The default value of numeric_only in DataFrameGroupBy.mean is deprecated. In a future version, numeric_only will default to False. Either specify numeric_only or select only columns which should be valid for the function.\n",
      "  data.groupby('Grade').mean()\n"
     ]
    },
    {
     "data": {
      "text/html": [
       "<div>\n",
       "<style scoped>\n",
       "    .dataframe tbody tr th:only-of-type {\n",
       "        vertical-align: middle;\n",
       "    }\n",
       "\n",
       "    .dataframe tbody tr th {\n",
       "        vertical-align: top;\n",
       "    }\n",
       "\n",
       "    .dataframe thead th {\n",
       "        text-align: right;\n",
       "    }\n",
       "</style>\n",
       "<table border=\"1\" class=\"dataframe\">\n",
       "  <thead>\n",
       "    <tr style=\"text-align: right;\">\n",
       "      <th></th>\n",
       "      <th>Rank</th>\n",
       "      <th>Video Uploads</th>\n",
       "      <th>Subscribers</th>\n",
       "      <th>Video views</th>\n",
       "      <th>avg_views</th>\n",
       "    </tr>\n",
       "    <tr>\n",
       "      <th>Grade</th>\n",
       "      <th></th>\n",
       "      <th></th>\n",
       "      <th></th>\n",
       "      <th></th>\n",
       "      <th></th>\n",
       "    </tr>\n",
       "  </thead>\n",
       "  <tbody>\n",
       "    <tr>\n",
       "      <th>1</th>\n",
       "      <td>3520.54</td>\n",
       "      <td>3136.16</td>\n",
       "      <td>1535207.95</td>\n",
       "      <td>555183839.09</td>\n",
       "      <td>3280380.88</td>\n",
       "    </tr>\n",
       "    <tr>\n",
       "      <th>2</th>\n",
       "      <td>1533.99</td>\n",
       "      <td>4382.58</td>\n",
       "      <td>2798520.38</td>\n",
       "      <td>1102450027.69</td>\n",
       "      <td>5254804.04</td>\n",
       "    </tr>\n",
       "    <tr>\n",
       "      <th>3</th>\n",
       "      <td>534.29</td>\n",
       "      <td>5709.86</td>\n",
       "      <td>5107136.29</td>\n",
       "      <td>2497972949.11</td>\n",
       "      <td>10540908.45</td>\n",
       "    </tr>\n",
       "    <tr>\n",
       "      <th>4</th>\n",
       "      <td>31.32</td>\n",
       "      <td>16960.30</td>\n",
       "      <td>11726947.47</td>\n",
       "      <td>6168741772.73</td>\n",
       "      <td>11577080.32</td>\n",
       "    </tr>\n",
       "    <tr>\n",
       "      <th>5</th>\n",
       "      <td>5.50</td>\n",
       "      <td>37450.70</td>\n",
       "      <td>22281762.50</td>\n",
       "      <td>21199091192.80</td>\n",
       "      <td>5688267.96</td>\n",
       "    </tr>\n",
       "  </tbody>\n",
       "</table>\n",
       "</div>"
      ],
      "text/plain": [
       "         Rank  Video Uploads  Subscribers    Video views   avg_views\n",
       "Grade                                                               \n",
       "1     3520.54        3136.16   1535207.95   555183839.09  3280380.88\n",
       "2     1533.99        4382.58   2798520.38  1102450027.69  5254804.04\n",
       "3      534.29        5709.86   5107136.29  2497972949.11 10540908.45\n",
       "4       31.32       16960.30  11726947.47  6168741772.73 11577080.32\n",
       "5        5.50       37450.70  22281762.50 21199091192.80  5688267.96"
      ]
     },
     "execution_count": 178,
     "metadata": {},
     "output_type": "execute_result"
    }
   ],
   "source": [
    "data.groupby('Grade').mean()"
   ]
  },
  {
   "cell_type": "code",
   "execution_count": 179,
   "id": "dcc1cad4",
   "metadata": {},
   "outputs": [],
   "source": [
    "# as we can see that grade 5 have highest number of video uploads, subscribers, video views"
   ]
  }
 ],
 "metadata": {
  "kernelspec": {
   "display_name": "Python 3 (ipykernel)",
   "language": "python",
   "name": "python3"
  },
  "language_info": {
   "codemirror_mode": {
    "name": "ipython",
    "version": 3
   },
   "file_extension": ".py",
   "mimetype": "text/x-python",
   "name": "python",
   "nbconvert_exporter": "python",
   "pygments_lexer": "ipython3",
   "version": "3.11.3"
  }
 },
 "nbformat": 4,
 "nbformat_minor": 5
}
